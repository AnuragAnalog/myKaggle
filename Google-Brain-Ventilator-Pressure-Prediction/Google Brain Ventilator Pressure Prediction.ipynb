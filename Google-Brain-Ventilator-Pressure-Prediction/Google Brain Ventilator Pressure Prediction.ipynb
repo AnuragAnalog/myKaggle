{
  "nbformat": 4,
  "nbformat_minor": 0,
  "metadata": {
    "colab": {
      "name": "Google Brain - Ventilator Pressure Prediction.ipynb",
      "provenance": [],
      "collapsed_sections": []
    },
    "kernelspec": {
      "name": "python3",
      "display_name": "Python 3"
    },
    "language_info": {
      "name": "python"
    }
  },
  "cells": [
    {
      "cell_type": "markdown",
      "metadata": {
        "id": "CgTTLxt0ZDez"
      },
      "source": [
        "# Google Brain - Ventilator Pressure Prediction"
      ]
    },
    {
      "cell_type": "code",
      "metadata": {
        "colab": {
          "base_uri": "https://localhost:8080/"
        },
        "id": "OZoPZIwrZA8S",
        "outputId": "5e7ce4e5-6852-40de-d2fe-13455d8f79ea"
      },
      "source": [
        "# Installing the modules\n",
        "\n",
        "!pip3 install kaggle\n",
        "!pip3 install catboost"
      ],
      "execution_count": 3,
      "outputs": [
        {
          "output_type": "stream",
          "name": "stdout",
          "text": [
            "Requirement already satisfied: kaggle in /usr/local/lib/python3.7/dist-packages (1.5.12)\n",
            "Requirement already satisfied: python-slugify in /usr/local/lib/python3.7/dist-packages (from kaggle) (5.0.2)\n",
            "Requirement already satisfied: tqdm in /usr/local/lib/python3.7/dist-packages (from kaggle) (4.62.3)\n",
            "Requirement already satisfied: certifi in /usr/local/lib/python3.7/dist-packages (from kaggle) (2021.5.30)\n",
            "Requirement already satisfied: python-dateutil in /usr/local/lib/python3.7/dist-packages (from kaggle) (2.8.2)\n",
            "Requirement already satisfied: urllib3 in /usr/local/lib/python3.7/dist-packages (from kaggle) (1.24.3)\n",
            "Requirement already satisfied: requests in /usr/local/lib/python3.7/dist-packages (from kaggle) (2.23.0)\n",
            "Requirement already satisfied: six>=1.10 in /usr/local/lib/python3.7/dist-packages (from kaggle) (1.15.0)\n",
            "Requirement already satisfied: text-unidecode>=1.3 in /usr/local/lib/python3.7/dist-packages (from python-slugify->kaggle) (1.3)\n",
            "Requirement already satisfied: idna<3,>=2.5 in /usr/local/lib/python3.7/dist-packages (from requests->kaggle) (2.10)\n",
            "Requirement already satisfied: chardet<4,>=3.0.2 in /usr/local/lib/python3.7/dist-packages (from requests->kaggle) (3.0.4)\n",
            "Collecting catboost\n",
            "  Downloading catboost-1.0.0-cp37-none-manylinux1_x86_64.whl (76.4 MB)\n",
            "\u001b[K     |████████████████████████████████| 76.4 MB 24 kB/s \n",
            "\u001b[?25hRequirement already satisfied: plotly in /usr/local/lib/python3.7/dist-packages (from catboost) (4.4.1)\n",
            "Requirement already satisfied: numpy>=1.16.0 in /usr/local/lib/python3.7/dist-packages (from catboost) (1.19.5)\n",
            "Requirement already satisfied: matplotlib in /usr/local/lib/python3.7/dist-packages (from catboost) (3.2.2)\n",
            "Requirement already satisfied: six in /usr/local/lib/python3.7/dist-packages (from catboost) (1.15.0)\n",
            "Requirement already satisfied: graphviz in /usr/local/lib/python3.7/dist-packages (from catboost) (0.10.1)\n",
            "Requirement already satisfied: scipy in /usr/local/lib/python3.7/dist-packages (from catboost) (1.4.1)\n",
            "Requirement already satisfied: pandas>=0.24.0 in /usr/local/lib/python3.7/dist-packages (from catboost) (1.1.5)\n",
            "Requirement already satisfied: python-dateutil>=2.7.3 in /usr/local/lib/python3.7/dist-packages (from pandas>=0.24.0->catboost) (2.8.2)\n",
            "Requirement already satisfied: pytz>=2017.2 in /usr/local/lib/python3.7/dist-packages (from pandas>=0.24.0->catboost) (2018.9)\n",
            "Requirement already satisfied: cycler>=0.10 in /usr/local/lib/python3.7/dist-packages (from matplotlib->catboost) (0.10.0)\n",
            "Requirement already satisfied: kiwisolver>=1.0.1 in /usr/local/lib/python3.7/dist-packages (from matplotlib->catboost) (1.3.2)\n",
            "Requirement already satisfied: pyparsing!=2.0.4,!=2.1.2,!=2.1.6,>=2.0.1 in /usr/local/lib/python3.7/dist-packages (from matplotlib->catboost) (2.4.7)\n",
            "Requirement already satisfied: retrying>=1.3.3 in /usr/local/lib/python3.7/dist-packages (from plotly->catboost) (1.3.3)\n",
            "Installing collected packages: catboost\n",
            "Successfully installed catboost-1.0.0\n"
          ]
        }
      ]
    },
    {
      "cell_type": "code",
      "metadata": {
        "id": "dk8DBDWkZELA"
      },
      "source": [
        "\n",
        "# Required modules\n",
        "\n",
        "import numpy as np\n",
        "import pandas as pd\n",
        "import seaborn as sns\n",
        "\n",
        "from zipfile import ZipFile\n",
        "from google.colab import files\n",
        "from matplotlib import pyplot as plt\n",
        "\n",
        "from catboost import CatBoostRegressor\n",
        "\n",
        "from sklearn.model_selection import train_test_split\n",
        "from sklearn.linear_model import PassiveAggressiveRegressor"
      ],
      "execution_count": 4,
      "outputs": []
    },
    {
      "cell_type": "code",
      "metadata": {
        "id": "H6O8e1KOaT9_"
      },
      "source": [
        "# Config\n",
        "\n",
        "%matplotlib inline\n",
        "plt.rcParams['figure.figsize'] = (12, 12)"
      ],
      "execution_count": 5,
      "outputs": []
    },
    {
      "cell_type": "code",
      "metadata": {
        "colab": {
          "resources": {
            "http://localhost:8080/nbextensions/google.colab/files.js": {
              "data": "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",
              "ok": true,
              "headers": [
                [
                  "content-type",
                  "application/javascript"
                ]
              ],
              "status": 200,
              "status_text": ""
            }
          },
          "base_uri": "https://localhost:8080/",
          "height": 89
        },
        "id": "Ze_lmcoFaVJV",
        "outputId": "2d705d6b-057b-478b-b611-1ac358a11b62"
      },
      "source": [
        "# Upload the creds\n",
        "\n",
        "files.upload()"
      ],
      "execution_count": 6,
      "outputs": [
        {
          "output_type": "display_data",
          "data": {
            "text/html": [
              "\n",
              "     <input type=\"file\" id=\"files-0b176548-746c-4e7d-ba78-db8ace5b1c1d\" name=\"files[]\" multiple disabled\n",
              "        style=\"border:none\" />\n",
              "     <output id=\"result-0b176548-746c-4e7d-ba78-db8ace5b1c1d\">\n",
              "      Upload widget is only available when the cell has been executed in the\n",
              "      current browser session. Please rerun this cell to enable.\n",
              "      </output>\n",
              "      <script src=\"/nbextensions/google.colab/files.js\"></script> "
            ],
            "text/plain": [
              "<IPython.core.display.HTML object>"
            ]
          },
          "metadata": {}
        },
        {
          "output_type": "stream",
          "name": "stdout",
          "text": [
            "Saving kaggle.json to kaggle.json\n"
          ]
        },
        {
          "output_type": "execute_result",
          "data": {
            "text/plain": [
              "{'kaggle.json': b'{\"username\":\"anurag1817\",\"key\":\"fee9a6f9d27c73cdef9835b97335e533\"}'}"
            ]
          },
          "metadata": {},
          "execution_count": 6
        }
      ]
    },
    {
      "cell_type": "code",
      "metadata": {
        "id": "lPYvwGtxaWyC"
      },
      "source": [
        "# Create kaggle folder\n",
        "\n",
        "!mkdir ~/.kaggle\n",
        "!cp kaggle.json ~/.kaggle/\n",
        "!chmod 600 ~/.kaggle/kaggle.json"
      ],
      "execution_count": 7,
      "outputs": []
    },
    {
      "cell_type": "code",
      "metadata": {
        "colab": {
          "base_uri": "https://localhost:8080/"
        },
        "id": "h-Z6gIy5aaUL",
        "outputId": "650c0df5-f98b-487e-9e3d-1c9cc47a5cf6"
      },
      "source": [
        "# Test the command\n",
        "\n",
        "!kaggle competitions download -c ventilator-pressure-prediction"
      ],
      "execution_count": 8,
      "outputs": [
        {
          "output_type": "stream",
          "name": "stdout",
          "text": [
            "Warning: Looks like you're using an outdated API Version, please consider updating (server 1.5.12 / client 1.5.4)\n",
            "Downloading test.csv.zip to /content\n",
            " 97% 73.0M/75.4M [00:02<00:00, 33.9MB/s]\n",
            "100% 75.4M/75.4M [00:02<00:00, 32.0MB/s]\n",
            "Downloading sample_submission.csv.zip to /content\n",
            " 12% 1.00M/8.50M [00:00<00:01, 5.68MB/s]\n",
            "100% 8.50M/8.50M [00:00<00:00, 28.3MB/s]\n",
            "Downloading train.csv.zip to /content\n",
            " 93% 129M/139M [00:03<00:00, 41.5MB/s]\n",
            "100% 139M/139M [00:03<00:00, 37.9MB/s]\n"
          ]
        }
      ]
    },
    {
      "cell_type": "code",
      "metadata": {
        "id": "27Vavyk-apqN"
      },
      "source": [
        "# Opening the zipfile\n",
        "\n",
        "with ZipFile('train.csv.zip', 'r') as zf:\n",
        "    zf.extractall('./')\n",
        "\n",
        "with ZipFile('test.csv.zip', 'r') as zf:\n",
        "    zf.extractall('./')\n",
        "\n",
        "with ZipFile('sample_submission.csv.zip', 'r') as zf:\n",
        "    zf.extractall('./')"
      ],
      "execution_count": 9,
      "outputs": []
    },
    {
      "cell_type": "code",
      "metadata": {
        "id": "fEEePc9EfFst",
        "colab": {
          "base_uri": "https://localhost:8080/",
          "height": 289
        },
        "outputId": "cbfbc3ca-5b91-4b38-a242-dea185f85866"
      },
      "source": [
        "# Load the train data\n",
        "\n",
        "train = pd.read_csv('train.csv', index_col=['id'])\n",
        "train.head()"
      ],
      "execution_count": 10,
      "outputs": [
        {
          "output_type": "stream",
          "name": "stderr",
          "text": [
            "/usr/local/lib/python3.7/dist-packages/numpy/lib/arraysetops.py:580: FutureWarning: elementwise comparison failed; returning scalar instead, but in the future will perform elementwise comparison\n",
            "  mask |= (ar1 == a)\n"
          ]
        },
        {
          "output_type": "execute_result",
          "data": {
            "text/html": [
              "<div>\n",
              "<style scoped>\n",
              "    .dataframe tbody tr th:only-of-type {\n",
              "        vertical-align: middle;\n",
              "    }\n",
              "\n",
              "    .dataframe tbody tr th {\n",
              "        vertical-align: top;\n",
              "    }\n",
              "\n",
              "    .dataframe thead th {\n",
              "        text-align: right;\n",
              "    }\n",
              "</style>\n",
              "<table border=\"1\" class=\"dataframe\">\n",
              "  <thead>\n",
              "    <tr style=\"text-align: right;\">\n",
              "      <th></th>\n",
              "      <th>breath_id</th>\n",
              "      <th>R</th>\n",
              "      <th>C</th>\n",
              "      <th>time_step</th>\n",
              "      <th>u_in</th>\n",
              "      <th>u_out</th>\n",
              "      <th>pressure</th>\n",
              "    </tr>\n",
              "    <tr>\n",
              "      <th>id</th>\n",
              "      <th></th>\n",
              "      <th></th>\n",
              "      <th></th>\n",
              "      <th></th>\n",
              "      <th></th>\n",
              "      <th></th>\n",
              "      <th></th>\n",
              "    </tr>\n",
              "  </thead>\n",
              "  <tbody>\n",
              "    <tr>\n",
              "      <th>1</th>\n",
              "      <td>1</td>\n",
              "      <td>20</td>\n",
              "      <td>50</td>\n",
              "      <td>0.000000</td>\n",
              "      <td>0.083334</td>\n",
              "      <td>0</td>\n",
              "      <td>5.837492</td>\n",
              "    </tr>\n",
              "    <tr>\n",
              "      <th>2</th>\n",
              "      <td>1</td>\n",
              "      <td>20</td>\n",
              "      <td>50</td>\n",
              "      <td>0.033652</td>\n",
              "      <td>18.383041</td>\n",
              "      <td>0</td>\n",
              "      <td>5.907794</td>\n",
              "    </tr>\n",
              "    <tr>\n",
              "      <th>3</th>\n",
              "      <td>1</td>\n",
              "      <td>20</td>\n",
              "      <td>50</td>\n",
              "      <td>0.067514</td>\n",
              "      <td>22.509278</td>\n",
              "      <td>0</td>\n",
              "      <td>7.876254</td>\n",
              "    </tr>\n",
              "    <tr>\n",
              "      <th>4</th>\n",
              "      <td>1</td>\n",
              "      <td>20</td>\n",
              "      <td>50</td>\n",
              "      <td>0.101542</td>\n",
              "      <td>22.808822</td>\n",
              "      <td>0</td>\n",
              "      <td>11.742872</td>\n",
              "    </tr>\n",
              "    <tr>\n",
              "      <th>5</th>\n",
              "      <td>1</td>\n",
              "      <td>20</td>\n",
              "      <td>50</td>\n",
              "      <td>0.135756</td>\n",
              "      <td>25.355850</td>\n",
              "      <td>0</td>\n",
              "      <td>12.234987</td>\n",
              "    </tr>\n",
              "  </tbody>\n",
              "</table>\n",
              "</div>"
            ],
            "text/plain": [
              "    breath_id   R   C  time_step       u_in  u_out   pressure\n",
              "id                                                           \n",
              "1           1  20  50   0.000000   0.083334      0   5.837492\n",
              "2           1  20  50   0.033652  18.383041      0   5.907794\n",
              "3           1  20  50   0.067514  22.509278      0   7.876254\n",
              "4           1  20  50   0.101542  22.808822      0  11.742872\n",
              "5           1  20  50   0.135756  25.355850      0  12.234987"
            ]
          },
          "metadata": {},
          "execution_count": 10
        }
      ]
    },
    {
      "cell_type": "code",
      "metadata": {
        "id": "9tA99afzfa8Q",
        "colab": {
          "base_uri": "https://localhost:8080/",
          "height": 535
        },
        "outputId": "45a793e0-01ab-43ec-d0af-fedeaa9ceb65"
      },
      "source": [
        "# Inspecting the train data\n",
        "\n",
        "train.info()\n",
        "train.describe()"
      ],
      "execution_count": 11,
      "outputs": [
        {
          "output_type": "stream",
          "name": "stdout",
          "text": [
            "<class 'pandas.core.frame.DataFrame'>\n",
            "Int64Index: 6036000 entries, 1 to 6036000\n",
            "Data columns (total 7 columns):\n",
            " #   Column     Dtype  \n",
            "---  ------     -----  \n",
            " 0   breath_id  int64  \n",
            " 1   R          int64  \n",
            " 2   C          int64  \n",
            " 3   time_step  float64\n",
            " 4   u_in       float64\n",
            " 5   u_out      int64  \n",
            " 6   pressure   float64\n",
            "dtypes: float64(3), int64(4)\n",
            "memory usage: 368.4 MB\n"
          ]
        },
        {
          "output_type": "execute_result",
          "data": {
            "text/html": [
              "<div>\n",
              "<style scoped>\n",
              "    .dataframe tbody tr th:only-of-type {\n",
              "        vertical-align: middle;\n",
              "    }\n",
              "\n",
              "    .dataframe tbody tr th {\n",
              "        vertical-align: top;\n",
              "    }\n",
              "\n",
              "    .dataframe thead th {\n",
              "        text-align: right;\n",
              "    }\n",
              "</style>\n",
              "<table border=\"1\" class=\"dataframe\">\n",
              "  <thead>\n",
              "    <tr style=\"text-align: right;\">\n",
              "      <th></th>\n",
              "      <th>breath_id</th>\n",
              "      <th>R</th>\n",
              "      <th>C</th>\n",
              "      <th>time_step</th>\n",
              "      <th>u_in</th>\n",
              "      <th>u_out</th>\n",
              "      <th>pressure</th>\n",
              "    </tr>\n",
              "  </thead>\n",
              "  <tbody>\n",
              "    <tr>\n",
              "      <th>count</th>\n",
              "      <td>6.036000e+06</td>\n",
              "      <td>6.036000e+06</td>\n",
              "      <td>6.036000e+06</td>\n",
              "      <td>6.036000e+06</td>\n",
              "      <td>6.036000e+06</td>\n",
              "      <td>6.036000e+06</td>\n",
              "      <td>6.036000e+06</td>\n",
              "    </tr>\n",
              "    <tr>\n",
              "      <th>mean</th>\n",
              "      <td>6.283886e+04</td>\n",
              "      <td>2.703618e+01</td>\n",
              "      <td>2.608072e+01</td>\n",
              "      <td>1.307225e+00</td>\n",
              "      <td>7.321615e+00</td>\n",
              "      <td>6.204493e-01</td>\n",
              "      <td>1.122041e+01</td>\n",
              "    </tr>\n",
              "    <tr>\n",
              "      <th>std</th>\n",
              "      <td>3.633526e+04</td>\n",
              "      <td>1.959549e+01</td>\n",
              "      <td>1.715231e+01</td>\n",
              "      <td>7.659778e-01</td>\n",
              "      <td>1.343470e+01</td>\n",
              "      <td>4.852752e-01</td>\n",
              "      <td>8.109703e+00</td>\n",
              "    </tr>\n",
              "    <tr>\n",
              "      <th>min</th>\n",
              "      <td>1.000000e+00</td>\n",
              "      <td>5.000000e+00</td>\n",
              "      <td>1.000000e+01</td>\n",
              "      <td>0.000000e+00</td>\n",
              "      <td>0.000000e+00</td>\n",
              "      <td>0.000000e+00</td>\n",
              "      <td>-1.895744e+00</td>\n",
              "    </tr>\n",
              "    <tr>\n",
              "      <th>25%</th>\n",
              "      <td>3.137700e+04</td>\n",
              "      <td>5.000000e+00</td>\n",
              "      <td>1.000000e+01</td>\n",
              "      <td>6.428995e-01</td>\n",
              "      <td>3.936623e-01</td>\n",
              "      <td>0.000000e+00</td>\n",
              "      <td>6.329607e+00</td>\n",
              "    </tr>\n",
              "    <tr>\n",
              "      <th>50%</th>\n",
              "      <td>6.276550e+04</td>\n",
              "      <td>2.000000e+01</td>\n",
              "      <td>2.000000e+01</td>\n",
              "      <td>1.308123e+00</td>\n",
              "      <td>4.386146e+00</td>\n",
              "      <td>1.000000e+00</td>\n",
              "      <td>7.032628e+00</td>\n",
              "    </tr>\n",
              "    <tr>\n",
              "      <th>75%</th>\n",
              "      <td>9.430100e+04</td>\n",
              "      <td>5.000000e+01</td>\n",
              "      <td>5.000000e+01</td>\n",
              "      <td>1.965502e+00</td>\n",
              "      <td>4.983895e+00</td>\n",
              "      <td>1.000000e+00</td>\n",
              "      <td>1.364103e+01</td>\n",
              "    </tr>\n",
              "    <tr>\n",
              "      <th>max</th>\n",
              "      <td>1.257490e+05</td>\n",
              "      <td>5.000000e+01</td>\n",
              "      <td>5.000000e+01</td>\n",
              "      <td>2.937238e+00</td>\n",
              "      <td>1.000000e+02</td>\n",
              "      <td>1.000000e+00</td>\n",
              "      <td>6.482099e+01</td>\n",
              "    </tr>\n",
              "  </tbody>\n",
              "</table>\n",
              "</div>"
            ],
            "text/plain": [
              "          breath_id             R  ...         u_out      pressure\n",
              "count  6.036000e+06  6.036000e+06  ...  6.036000e+06  6.036000e+06\n",
              "mean   6.283886e+04  2.703618e+01  ...  6.204493e-01  1.122041e+01\n",
              "std    3.633526e+04  1.959549e+01  ...  4.852752e-01  8.109703e+00\n",
              "min    1.000000e+00  5.000000e+00  ...  0.000000e+00 -1.895744e+00\n",
              "25%    3.137700e+04  5.000000e+00  ...  0.000000e+00  6.329607e+00\n",
              "50%    6.276550e+04  2.000000e+01  ...  1.000000e+00  7.032628e+00\n",
              "75%    9.430100e+04  5.000000e+01  ...  1.000000e+00  1.364103e+01\n",
              "max    1.257490e+05  5.000000e+01  ...  1.000000e+00  6.482099e+01\n",
              "\n",
              "[8 rows x 7 columns]"
            ]
          },
          "metadata": {},
          "execution_count": 11
        }
      ]
    },
    {
      "cell_type": "code",
      "metadata": {
        "id": "JpYbs_qlfa-f",
        "colab": {
          "base_uri": "https://localhost:8080/",
          "height": 722
        },
        "outputId": "ecb867da-f737-4597-8f89-054d5d62af9d"
      },
      "source": [
        "# Correlation matrix\n",
        "\n",
        "sns.heatmap(train.corr(), annot=True, vmin=-1, vmax=1)"
      ],
      "execution_count": 12,
      "outputs": [
        {
          "output_type": "execute_result",
          "data": {
            "text/plain": [
              "<matplotlib.axes._subplots.AxesSubplot at 0x7f01a8f6a510>"
            ]
          },
          "metadata": {},
          "execution_count": 12
        },
        {
          "output_type": "display_data",
          "data": {
            "image/png": "[encoded data removed]",
            "text/plain": [
              "<Figure size 864x864 with 2 Axes>"
            ]
          },
          "metadata": {
            "needs_background": "light"
          }
        }
      ]
    },
    {
      "cell_type": "code",
      "metadata": {
        "id": "ppyhWo0Bf9_K",
        "colab": {
          "base_uri": "https://localhost:8080/"
        },
        "outputId": "688b4a9e-a067-46b4-dbcc-6b6da8a215c7"
      },
      "source": [
        "# Missing values\n",
        "\n",
        "if train.isna().any().any():\n",
        "    print(train.isna().sum()/train.shape[0])\n",
        "else:\n",
        "    print(\"No Mising values\")"
      ],
      "execution_count": 13,
      "outputs": [
        {
          "output_type": "stream",
          "name": "stdout",
          "text": [
            "No Mising values\n"
          ]
        }
      ]
    },
    {
      "cell_type": "code",
      "metadata": {
        "id": "UJ6LqSJjf-Bg"
      },
      "source": [
        "# Seperating out features and labels\n",
        "\n",
        "X = train.drop(['pressure', 'breath_id'], axis=1)\n",
        "y = train['pressure']"
      ],
      "execution_count": 14,
      "outputs": []
    },
    {
      "cell_type": "code",
      "metadata": {
        "id": "K0RvU31KLn7i"
      },
      "source": [
        "# Train and Test split\n",
        "\n",
        "X_train, X_valid, y_train, y_valid = train_test_split(X, y, test_size=0.2)"
      ],
      "execution_count": 15,
      "outputs": []
    },
    {
      "cell_type": "code",
      "metadata": {
        "colab": {
          "base_uri": "https://localhost:8080/"
        },
        "id": "rJcd_lCkM033",
        "outputId": "5bc6f0c0-0b2b-4f43-f781-ef3a5a99c9a4"
      },
      "source": [
        "# Fit a CatBoost\n",
        "\n",
        "model = CatBoostRegressor(verbose=2)\n",
        "model.fit(X_train, y_train)"
      ],
      "execution_count": 17,
      "outputs": [
        {
          "output_type": "stream",
          "name": "stdout",
          "text": [
            "Learning rate set to 0.156396\n",
            "0:\tlearn: 7.3709611\ttotal: 719ms\tremaining: 11m 58s\n",
            "2:\tlearn: 6.3050317\ttotal: 1.83s\tremaining: 10m 9s\n",
            "4:\tlearn: 5.6275533\ttotal: 2.97s\tremaining: 9m 51s\n",
            "6:\tlearn: 5.2111147\ttotal: 4.11s\tremaining: 9m 42s\n",
            "8:\tlearn: 4.9404116\ttotal: 5.24s\tremaining: 9m 37s\n",
            "10:\tlearn: 4.7645817\ttotal: 6.38s\tremaining: 9m 34s\n",
            "12:\tlearn: 4.6581822\ttotal: 7.51s\tremaining: 9m 30s\n",
            "14:\tlearn: 4.5798726\ttotal: 8.65s\tremaining: 9m 28s\n",
            "16:\tlearn: 4.5155616\ttotal: 9.81s\tremaining: 9m 27s\n",
            "18:\tlearn: 4.4731130\ttotal: 10.9s\tremaining: 9m 23s\n",
            "20:\tlearn: 4.4366001\ttotal: 12s\tremaining: 9m 19s\n",
            "22:\tlearn: 4.4051943\ttotal: 13.1s\tremaining: 9m 17s\n",
            "24:\tlearn: 4.3822302\ttotal: 14.2s\tremaining: 9m 14s\n",
            "26:\tlearn: 4.3631352\ttotal: 15.3s\tremaining: 9m 11s\n",
            "28:\tlearn: 4.3453024\ttotal: 16.4s\tremaining: 9m 8s\n",
            "30:\tlearn: 4.3311816\ttotal: 17.5s\tremaining: 9m 7s\n",
            "32:\tlearn: 4.3184940\ttotal: 18.6s\tremaining: 9m 4s\n",
            "34:\tlearn: 4.3059224\ttotal: 19.7s\tremaining: 9m 3s\n",
            "36:\tlearn: 4.2978477\ttotal: 20.8s\tremaining: 9m 1s\n",
            "38:\tlearn: 4.2873974\ttotal: 21.9s\tremaining: 8m 58s\n",
            "40:\tlearn: 4.2774149\ttotal: 23s\tremaining: 8m 57s\n",
            "42:\tlearn: 4.2688329\ttotal: 24.1s\tremaining: 8m 56s\n",
            "44:\tlearn: 4.2606517\ttotal: 25.2s\tremaining: 8m 53s\n",
            "46:\tlearn: 4.2526962\ttotal: 26.2s\tremaining: 8m 51s\n",
            "48:\tlearn: 4.2476736\ttotal: 27.3s\tremaining: 8m 50s\n",
            "50:\tlearn: 4.2427291\ttotal: 28.4s\tremaining: 8m 47s\n",
            "52:\tlearn: 4.2389181\ttotal: 29.5s\tremaining: 8m 46s\n",
            "54:\tlearn: 4.2313798\ttotal: 30.6s\tremaining: 8m 45s\n",
            "56:\tlearn: 4.2269230\ttotal: 31.7s\tremaining: 8m 44s\n",
            "58:\tlearn: 4.2219842\ttotal: 32.8s\tremaining: 8m 43s\n",
            "60:\tlearn: 4.2163842\ttotal: 33.9s\tremaining: 8m 41s\n",
            "62:\tlearn: 4.2119568\ttotal: 35s\tremaining: 8m 39s\n",
            "64:\tlearn: 4.2094678\ttotal: 36.1s\tremaining: 8m 39s\n",
            "66:\tlearn: 4.2078443\ttotal: 37.2s\tremaining: 8m 38s\n",
            "68:\tlearn: 4.2056336\ttotal: 38.3s\tremaining: 8m 36s\n",
            "70:\tlearn: 4.1993370\ttotal: 39.4s\tremaining: 8m 35s\n",
            "72:\tlearn: 4.1940906\ttotal: 40.5s\tremaining: 8m 34s\n",
            "74:\tlearn: 4.1918670\ttotal: 41.6s\tremaining: 8m 33s\n",
            "76:\tlearn: 4.1893249\ttotal: 42.8s\tremaining: 8m 32s\n",
            "78:\tlearn: 4.1858775\ttotal: 43.9s\tremaining: 8m 31s\n",
            "80:\tlearn: 4.1827967\ttotal: 44.9s\tremaining: 8m 29s\n",
            "82:\tlearn: 4.1807147\ttotal: 46.1s\tremaining: 8m 29s\n",
            "84:\tlearn: 4.1769861\ttotal: 47.2s\tremaining: 8m 27s\n",
            "86:\tlearn: 4.1732889\ttotal: 48.3s\tremaining: 8m 26s\n",
            "88:\tlearn: 4.1700913\ttotal: 49.4s\tremaining: 8m 25s\n",
            "90:\tlearn: 4.1679928\ttotal: 50.5s\tremaining: 8m 24s\n",
            "92:\tlearn: 4.1664342\ttotal: 51.6s\tremaining: 8m 23s\n",
            "94:\tlearn: 4.1644987\ttotal: 52.7s\tremaining: 8m 22s\n",
            "96:\tlearn: 4.1615001\ttotal: 53.8s\tremaining: 8m 20s\n",
            "98:\tlearn: 4.1577192\ttotal: 54.9s\tremaining: 8m 19s\n",
            "100:\tlearn: 4.1561701\ttotal: 56.1s\tremaining: 8m 19s\n",
            "102:\tlearn: 4.1545707\ttotal: 57.1s\tremaining: 8m 17s\n",
            "104:\tlearn: 4.1522636\ttotal: 58.2s\tremaining: 8m 16s\n",
            "106:\tlearn: 4.1503497\ttotal: 59.3s\tremaining: 8m 15s\n",
            "108:\tlearn: 4.1485225\ttotal: 1m\tremaining: 8m 13s\n",
            "110:\tlearn: 4.1468162\ttotal: 1m 1s\tremaining: 8m 12s\n",
            "112:\tlearn: 4.1449351\ttotal: 1m 2s\tremaining: 8m 11s\n",
            "114:\tlearn: 4.1435292\ttotal: 1m 3s\tremaining: 8m 10s\n",
            "116:\tlearn: 4.1419679\ttotal: 1m 4s\tremaining: 8m 9s\n",
            "118:\tlearn: 4.1394861\ttotal: 1m 5s\tremaining: 8m 8s\n",
            "120:\tlearn: 4.1381527\ttotal: 1m 7s\tremaining: 8m 7s\n",
            "122:\tlearn: 4.1358073\ttotal: 1m 8s\tremaining: 8m 6s\n",
            "124:\tlearn: 4.1340917\ttotal: 1m 9s\tremaining: 8m 4s\n",
            "126:\tlearn: 4.1324712\ttotal: 1m 10s\tremaining: 8m 3s\n",
            "128:\tlearn: 4.1310022\ttotal: 1m 11s\tremaining: 8m 2s\n",
            "130:\tlearn: 4.1290285\ttotal: 1m 12s\tremaining: 8m 1s\n",
            "132:\tlearn: 4.1282156\ttotal: 1m 13s\tremaining: 8m\n",
            "134:\tlearn: 4.1263360\ttotal: 1m 14s\tremaining: 7m 59s\n",
            "136:\tlearn: 4.1239401\ttotal: 1m 15s\tremaining: 7m 58s\n",
            "138:\tlearn: 4.1230430\ttotal: 1m 17s\tremaining: 7m 57s\n",
            "140:\tlearn: 4.1216945\ttotal: 1m 18s\tremaining: 7m 56s\n",
            "142:\tlearn: 4.1203068\ttotal: 1m 19s\tremaining: 7m 55s\n",
            "144:\tlearn: 4.1190366\ttotal: 1m 20s\tremaining: 7m 54s\n",
            "146:\tlearn: 4.1170956\ttotal: 1m 21s\tremaining: 7m 53s\n",
            "148:\tlearn: 4.1159889\ttotal: 1m 22s\tremaining: 7m 52s\n",
            "150:\tlearn: 4.1146447\ttotal: 1m 23s\tremaining: 7m 51s\n",
            "152:\tlearn: 4.1133630\ttotal: 1m 24s\tremaining: 7m 50s\n",
            "154:\tlearn: 4.1119623\ttotal: 1m 26s\tremaining: 7m 49s\n",
            "156:\tlearn: 4.1110159\ttotal: 1m 27s\tremaining: 7m 48s\n",
            "158:\tlearn: 4.1094263\ttotal: 1m 28s\tremaining: 7m 46s\n",
            "160:\tlearn: 4.1082795\ttotal: 1m 29s\tremaining: 7m 45s\n",
            "162:\tlearn: 4.1065599\ttotal: 1m 30s\tremaining: 7m 44s\n",
            "164:\tlearn: 4.1051704\ttotal: 1m 31s\tremaining: 7m 43s\n",
            "166:\tlearn: 4.1036962\ttotal: 1m 32s\tremaining: 7m 42s\n",
            "168:\tlearn: 4.1027183\ttotal: 1m 33s\tremaining: 7m 41s\n",
            "170:\tlearn: 4.1020441\ttotal: 1m 34s\tremaining: 7m 40s\n",
            "172:\tlearn: 4.1007697\ttotal: 1m 36s\tremaining: 7m 39s\n",
            "174:\tlearn: 4.0999899\ttotal: 1m 37s\tremaining: 7m 37s\n",
            "176:\tlearn: 4.0993536\ttotal: 1m 38s\tremaining: 7m 37s\n",
            "178:\tlearn: 4.0981168\ttotal: 1m 39s\tremaining: 7m 35s\n",
            "180:\tlearn: 4.0967227\ttotal: 1m 40s\tremaining: 7m 34s\n",
            "182:\tlearn: 4.0953104\ttotal: 1m 41s\tremaining: 7m 33s\n",
            "184:\tlearn: 4.0938231\ttotal: 1m 42s\tremaining: 7m 32s\n",
            "186:\tlearn: 4.0929324\ttotal: 1m 43s\tremaining: 7m 31s\n",
            "188:\tlearn: 4.0918402\ttotal: 1m 45s\tremaining: 7m 30s\n",
            "190:\tlearn: 4.0913446\ttotal: 1m 46s\tremaining: 7m 29s\n",
            "192:\tlearn: 4.0908261\ttotal: 1m 47s\tremaining: 7m 28s\n",
            "194:\tlearn: 4.0894494\ttotal: 1m 48s\tremaining: 7m 27s\n",
            "196:\tlearn: 4.0889427\ttotal: 1m 49s\tremaining: 7m 26s\n",
            "198:\tlearn: 4.0878546\ttotal: 1m 50s\tremaining: 7m 25s\n",
            "200:\tlearn: 4.0868458\ttotal: 1m 51s\tremaining: 7m 23s\n",
            "202:\tlearn: 4.0863068\ttotal: 1m 52s\tremaining: 7m 23s\n",
            "204:\tlearn: 4.0853180\ttotal: 1m 53s\tremaining: 7m 21s\n",
            "206:\tlearn: 4.0840943\ttotal: 1m 55s\tremaining: 7m 20s\n",
            "208:\tlearn: 4.0826248\ttotal: 1m 56s\tremaining: 7m 19s\n",
            "210:\tlearn: 4.0815022\ttotal: 1m 57s\tremaining: 7m 18s\n",
            "212:\tlearn: 4.0808712\ttotal: 1m 58s\tremaining: 7m 17s\n",
            "214:\tlearn: 4.0790556\ttotal: 1m 59s\tremaining: 7m 16s\n",
            "216:\tlearn: 4.0781100\ttotal: 2m\tremaining: 7m 15s\n",
            "218:\tlearn: 4.0773286\ttotal: 2m 1s\tremaining: 7m 14s\n",
            "220:\tlearn: 4.0768594\ttotal: 2m 2s\tremaining: 7m 13s\n",
            "222:\tlearn: 4.0757359\ttotal: 2m 3s\tremaining: 7m 11s\n",
            "224:\tlearn: 4.0751728\ttotal: 2m 5s\tremaining: 7m 10s\n",
            "226:\tlearn: 4.0744050\ttotal: 2m 6s\tremaining: 7m 9s\n",
            "228:\tlearn: 4.0736708\ttotal: 2m 7s\tremaining: 7m 8s\n",
            "230:\tlearn: 4.0732164\ttotal: 2m 8s\tremaining: 7m 7s\n",
            "232:\tlearn: 4.0725667\ttotal: 2m 9s\tremaining: 7m 6s\n",
            "234:\tlearn: 4.0715656\ttotal: 2m 10s\tremaining: 7m 5s\n",
            "236:\tlearn: 4.0707397\ttotal: 2m 11s\tremaining: 7m 4s\n",
            "238:\tlearn: 4.0698859\ttotal: 2m 12s\tremaining: 7m 3s\n",
            "240:\tlearn: 4.0687647\ttotal: 2m 13s\tremaining: 7m 2s\n",
            "242:\tlearn: 4.0681841\ttotal: 2m 15s\tremaining: 7m\n",
            "244:\tlearn: 4.0674528\ttotal: 2m 16s\tremaining: 6m 59s\n",
            "246:\tlearn: 4.0664578\ttotal: 2m 17s\tremaining: 6m 58s\n",
            "248:\tlearn: 4.0657918\ttotal: 2m 18s\tremaining: 6m 57s\n",
            "250:\tlearn: 4.0652218\ttotal: 2m 19s\tremaining: 6m 56s\n",
            "252:\tlearn: 4.0647855\ttotal: 2m 20s\tremaining: 6m 55s\n",
            "254:\tlearn: 4.0646347\ttotal: 2m 21s\tremaining: 6m 54s\n",
            "256:\tlearn: 4.0639090\ttotal: 2m 22s\tremaining: 6m 53s\n",
            "258:\tlearn: 4.0634033\ttotal: 2m 23s\tremaining: 6m 51s\n",
            "260:\tlearn: 4.0616843\ttotal: 2m 25s\tremaining: 6m 50s\n",
            "262:\tlearn: 4.0608206\ttotal: 2m 26s\tremaining: 6m 49s\n",
            "264:\tlearn: 4.0601365\ttotal: 2m 27s\tremaining: 6m 48s\n",
            "266:\tlearn: 4.0595888\ttotal: 2m 28s\tremaining: 6m 47s\n",
            "268:\tlearn: 4.0586271\ttotal: 2m 29s\tremaining: 6m 46s\n",
            "270:\tlearn: 4.0574988\ttotal: 2m 30s\tremaining: 6m 45s\n",
            "272:\tlearn: 4.0565770\ttotal: 2m 31s\tremaining: 6m 43s\n",
            "274:\tlearn: 4.0559767\ttotal: 2m 32s\tremaining: 6m 42s\n",
            "276:\tlearn: 4.0555844\ttotal: 2m 33s\tremaining: 6m 41s\n",
            "278:\tlearn: 4.0550689\ttotal: 2m 35s\tremaining: 6m 40s\n",
            "280:\tlearn: 4.0539632\ttotal: 2m 36s\tremaining: 6m 39s\n",
            "282:\tlearn: 4.0531878\ttotal: 2m 37s\tremaining: 6m 38s\n",
            "284:\tlearn: 4.0522072\ttotal: 2m 38s\tremaining: 6m 37s\n",
            "286:\tlearn: 4.0513197\ttotal: 2m 39s\tremaining: 6m 36s\n",
            "288:\tlearn: 4.0509647\ttotal: 2m 40s\tremaining: 6m 35s\n",
            "290:\tlearn: 4.0505346\ttotal: 2m 41s\tremaining: 6m 33s\n",
            "292:\tlearn: 4.0489547\ttotal: 2m 42s\tremaining: 6m 32s\n",
            "294:\tlearn: 4.0482788\ttotal: 2m 43s\tremaining: 6m 31s\n",
            "296:\tlearn: 4.0468848\ttotal: 2m 45s\tremaining: 6m 30s\n",
            "298:\tlearn: 4.0459415\ttotal: 2m 46s\tremaining: 6m 29s\n",
            "300:\tlearn: 4.0450287\ttotal: 2m 47s\tremaining: 6m 28s\n",
            "302:\tlearn: 4.0445648\ttotal: 2m 48s\tremaining: 6m 27s\n",
            "304:\tlearn: 4.0436758\ttotal: 2m 49s\tremaining: 6m 26s\n",
            "306:\tlearn: 4.0434573\ttotal: 2m 50s\tremaining: 6m 25s\n",
            "308:\tlearn: 4.0425259\ttotal: 2m 51s\tremaining: 6m 24s\n",
            "310:\tlearn: 4.0418250\ttotal: 2m 52s\tremaining: 6m 23s\n",
            "312:\tlearn: 4.0411017\ttotal: 2m 54s\tremaining: 6m 22s\n",
            "314:\tlearn: 4.0406451\ttotal: 2m 55s\tremaining: 6m 21s\n",
            "316:\tlearn: 4.0400835\ttotal: 2m 56s\tremaining: 6m 19s\n",
            "318:\tlearn: 4.0396188\ttotal: 2m 57s\tremaining: 6m 18s\n",
            "320:\tlearn: 4.0389917\ttotal: 2m 58s\tremaining: 6m 17s\n",
            "322:\tlearn: 4.0383618\ttotal: 2m 59s\tremaining: 6m 16s\n",
            "324:\tlearn: 4.0375590\ttotal: 3m\tremaining: 6m 15s\n",
            "326:\tlearn: 4.0368044\ttotal: 3m 1s\tremaining: 6m 14s\n",
            "328:\tlearn: 4.0362974\ttotal: 3m 3s\tremaining: 6m 13s\n",
            "330:\tlearn: 4.0357058\ttotal: 3m 4s\tremaining: 6m 12s\n",
            "332:\tlearn: 4.0354186\ttotal: 3m 5s\tremaining: 6m 11s\n",
            "334:\tlearn: 4.0346615\ttotal: 3m 6s\tremaining: 6m 10s\n",
            "336:\tlearn: 4.0342041\ttotal: 3m 7s\tremaining: 6m 8s\n",
            "338:\tlearn: 4.0333105\ttotal: 3m 8s\tremaining: 6m 7s\n",
            "340:\tlearn: 4.0326137\ttotal: 3m 9s\tremaining: 6m 6s\n",
            "342:\tlearn: 4.0321324\ttotal: 3m 10s\tremaining: 6m 5s\n",
            "344:\tlearn: 4.0319247\ttotal: 3m 12s\tremaining: 6m 4s\n",
            "346:\tlearn: 4.0310439\ttotal: 3m 13s\tremaining: 6m 3s\n",
            "348:\tlearn: 4.0302844\ttotal: 3m 14s\tremaining: 6m 2s\n",
            "350:\tlearn: 4.0295918\ttotal: 3m 15s\tremaining: 6m 1s\n",
            "352:\tlearn: 4.0291751\ttotal: 3m 16s\tremaining: 6m\n",
            "354:\tlearn: 4.0280103\ttotal: 3m 17s\tremaining: 5m 59s\n",
            "356:\tlearn: 4.0277019\ttotal: 3m 18s\tremaining: 5m 57s\n",
            "358:\tlearn: 4.0272391\ttotal: 3m 19s\tremaining: 5m 56s\n",
            "360:\tlearn: 4.0266717\ttotal: 3m 20s\tremaining: 5m 55s\n",
            "362:\tlearn: 4.0263008\ttotal: 3m 22s\tremaining: 5m 54s\n",
            "364:\tlearn: 4.0254565\ttotal: 3m 23s\tremaining: 5m 53s\n",
            "366:\tlearn: 4.0246500\ttotal: 3m 24s\tremaining: 5m 52s\n",
            "368:\tlearn: 4.0241090\ttotal: 3m 25s\tremaining: 5m 51s\n",
            "370:\tlearn: 4.0235125\ttotal: 3m 26s\tremaining: 5m 50s\n",
            "372:\tlearn: 4.0228991\ttotal: 3m 27s\tremaining: 5m 49s\n",
            "374:\tlearn: 4.0222993\ttotal: 3m 28s\tremaining: 5m 47s\n",
            "376:\tlearn: 4.0216282\ttotal: 3m 29s\tremaining: 5m 46s\n",
            "378:\tlearn: 4.0213085\ttotal: 3m 31s\tremaining: 5m 45s\n",
            "380:\tlearn: 4.0209156\ttotal: 3m 32s\tremaining: 5m 44s\n",
            "382:\tlearn: 4.0207329\ttotal: 3m 33s\tremaining: 5m 43s\n",
            "384:\tlearn: 4.0200537\ttotal: 3m 34s\tremaining: 5m 42s\n",
            "386:\tlearn: 4.0196336\ttotal: 3m 35s\tremaining: 5m 41s\n",
            "388:\tlearn: 4.0191360\ttotal: 3m 36s\tremaining: 5m 40s\n",
            "390:\tlearn: 4.0185490\ttotal: 3m 37s\tremaining: 5m 39s\n",
            "392:\tlearn: 4.0181892\ttotal: 3m 38s\tremaining: 5m 38s\n",
            "394:\tlearn: 4.0178022\ttotal: 3m 40s\tremaining: 5m 37s\n",
            "396:\tlearn: 4.0175233\ttotal: 3m 41s\tremaining: 5m 36s\n",
            "398:\tlearn: 4.0168741\ttotal: 3m 42s\tremaining: 5m 34s\n",
            "400:\tlearn: 4.0166051\ttotal: 3m 43s\tremaining: 5m 33s\n",
            "402:\tlearn: 4.0162442\ttotal: 3m 44s\tremaining: 5m 32s\n",
            "404:\tlearn: 4.0155001\ttotal: 3m 45s\tremaining: 5m 31s\n",
            "406:\tlearn: 4.0143281\ttotal: 3m 46s\tremaining: 5m 30s\n",
            "408:\tlearn: 4.0138589\ttotal: 3m 48s\tremaining: 5m 29s\n",
            "410:\tlearn: 4.0132191\ttotal: 3m 49s\tremaining: 5m 28s\n",
            "412:\tlearn: 4.0126753\ttotal: 3m 50s\tremaining: 5m 27s\n",
            "414:\tlearn: 4.0120107\ttotal: 3m 51s\tremaining: 5m 26s\n",
            "416:\tlearn: 4.0113117\ttotal: 3m 52s\tremaining: 5m 25s\n",
            "418:\tlearn: 4.0101122\ttotal: 3m 53s\tremaining: 5m 23s\n",
            "420:\tlearn: 4.0093474\ttotal: 3m 54s\tremaining: 5m 22s\n",
            "422:\tlearn: 4.0090028\ttotal: 3m 55s\tremaining: 5m 21s\n",
            "424:\tlearn: 4.0087708\ttotal: 3m 56s\tremaining: 5m 20s\n",
            "426:\tlearn: 4.0083903\ttotal: 3m 57s\tremaining: 5m 19s\n",
            "428:\tlearn: 4.0080026\ttotal: 3m 58s\tremaining: 5m 18s\n",
            "430:\tlearn: 4.0075634\ttotal: 4m\tremaining: 5m 16s\n",
            "432:\tlearn: 4.0070164\ttotal: 4m 1s\tremaining: 5m 15s\n",
            "434:\tlearn: 4.0067410\ttotal: 4m 2s\tremaining: 5m 14s\n",
            "436:\tlearn: 4.0057703\ttotal: 4m 3s\tremaining: 5m 13s\n",
            "438:\tlearn: 4.0050346\ttotal: 4m 4s\tremaining: 5m 12s\n",
            "440:\tlearn: 4.0047467\ttotal: 4m 5s\tremaining: 5m 11s\n",
            "442:\tlearn: 4.0044459\ttotal: 4m 6s\tremaining: 5m 10s\n",
            "444:\tlearn: 4.0040279\ttotal: 4m 7s\tremaining: 5m 9s\n",
            "446:\tlearn: 4.0036727\ttotal: 4m 9s\tremaining: 5m 8s\n",
            "448:\tlearn: 4.0033523\ttotal: 4m 10s\tremaining: 5m 7s\n",
            "450:\tlearn: 4.0029007\ttotal: 4m 11s\tremaining: 5m 5s\n",
            "452:\tlearn: 4.0024436\ttotal: 4m 12s\tremaining: 5m 4s\n",
            "454:\tlearn: 4.0021506\ttotal: 4m 13s\tremaining: 5m 3s\n",
            "456:\tlearn: 4.0016667\ttotal: 4m 14s\tremaining: 5m 2s\n",
            "458:\tlearn: 4.0009590\ttotal: 4m 15s\tremaining: 5m 1s\n",
            "460:\tlearn: 4.0007306\ttotal: 4m 16s\tremaining: 5m\n",
            "462:\tlearn: 4.0001280\ttotal: 4m 17s\tremaining: 4m 59s\n",
            "464:\tlearn: 3.9997661\ttotal: 4m 19s\tremaining: 4m 58s\n",
            "466:\tlearn: 3.9991477\ttotal: 4m 20s\tremaining: 4m 56s\n",
            "468:\tlearn: 3.9988446\ttotal: 4m 21s\tremaining: 4m 55s\n",
            "470:\tlearn: 3.9986124\ttotal: 4m 22s\tremaining: 4m 54s\n",
            "472:\tlearn: 3.9981291\ttotal: 4m 23s\tremaining: 4m 53s\n",
            "474:\tlearn: 3.9977081\ttotal: 4m 24s\tremaining: 4m 52s\n",
            "476:\tlearn: 3.9970881\ttotal: 4m 25s\tremaining: 4m 51s\n",
            "478:\tlearn: 3.9965874\ttotal: 4m 27s\tremaining: 4m 50s\n",
            "480:\tlearn: 3.9963215\ttotal: 4m 28s\tremaining: 4m 49s\n",
            "482:\tlearn: 3.9956432\ttotal: 4m 29s\tremaining: 4m 48s\n",
            "484:\tlearn: 3.9954483\ttotal: 4m 30s\tremaining: 4m 46s\n",
            "486:\tlearn: 3.9951661\ttotal: 4m 31s\tremaining: 4m 45s\n",
            "488:\tlearn: 3.9948649\ttotal: 4m 32s\tremaining: 4m 44s\n",
            "490:\tlearn: 3.9945811\ttotal: 4m 33s\tremaining: 4m 43s\n",
            "492:\tlearn: 3.9942844\ttotal: 4m 34s\tremaining: 4m 42s\n",
            "494:\tlearn: 3.9939918\ttotal: 4m 35s\tremaining: 4m 41s\n",
            "496:\tlearn: 3.9937218\ttotal: 4m 37s\tremaining: 4m 40s\n",
            "498:\tlearn: 3.9934373\ttotal: 4m 38s\tremaining: 4m 39s\n",
            "500:\tlearn: 3.9931676\ttotal: 4m 39s\tremaining: 4m 38s\n",
            "502:\tlearn: 3.9924093\ttotal: 4m 40s\tremaining: 4m 37s\n",
            "504:\tlearn: 3.9922105\ttotal: 4m 41s\tremaining: 4m 36s\n",
            "506:\tlearn: 3.9920807\ttotal: 4m 42s\tremaining: 4m 34s\n",
            "508:\tlearn: 3.9918460\ttotal: 4m 43s\tremaining: 4m 33s\n",
            "510:\tlearn: 3.9912107\ttotal: 4m 44s\tremaining: 4m 32s\n",
            "512:\tlearn: 3.9906348\ttotal: 4m 46s\tremaining: 4m 31s\n",
            "514:\tlearn: 3.9900618\ttotal: 4m 47s\tremaining: 4m 30s\n",
            "516:\tlearn: 3.9896389\ttotal: 4m 48s\tremaining: 4m 29s\n",
            "518:\tlearn: 3.9893135\ttotal: 4m 49s\tremaining: 4m 28s\n",
            "520:\tlearn: 3.9892323\ttotal: 4m 50s\tremaining: 4m 27s\n",
            "522:\tlearn: 3.9889678\ttotal: 4m 51s\tremaining: 4m 26s\n",
            "524:\tlearn: 3.9880925\ttotal: 4m 52s\tremaining: 4m 24s\n",
            "526:\tlearn: 3.9875283\ttotal: 4m 53s\tremaining: 4m 23s\n",
            "528:\tlearn: 3.9870082\ttotal: 4m 55s\tremaining: 4m 22s\n",
            "530:\tlearn: 3.9868223\ttotal: 4m 56s\tremaining: 4m 21s\n",
            "532:\tlearn: 3.9865434\ttotal: 4m 57s\tremaining: 4m 20s\n",
            "534:\tlearn: 3.9861836\ttotal: 4m 58s\tremaining: 4m 19s\n",
            "536:\tlearn: 3.9858257\ttotal: 4m 59s\tremaining: 4m 18s\n",
            "538:\tlearn: 3.9856019\ttotal: 5m\tremaining: 4m 17s\n",
            "540:\tlearn: 3.9852905\ttotal: 5m 1s\tremaining: 4m 16s\n",
            "542:\tlearn: 3.9849889\ttotal: 5m 3s\tremaining: 4m 15s\n",
            "544:\tlearn: 3.9842494\ttotal: 5m 4s\tremaining: 4m 13s\n",
            "546:\tlearn: 3.9833675\ttotal: 5m 5s\tremaining: 4m 12s\n",
            "548:\tlearn: 3.9830474\ttotal: 5m 6s\tremaining: 4m 11s\n",
            "550:\tlearn: 3.9827499\ttotal: 5m 7s\tremaining: 4m 10s\n",
            "552:\tlearn: 3.9819052\ttotal: 5m 8s\tremaining: 4m 9s\n",
            "554:\tlearn: 3.9816726\ttotal: 5m 9s\tremaining: 4m 8s\n",
            "556:\tlearn: 3.9814312\ttotal: 5m 10s\tremaining: 4m 7s\n",
            "558:\tlearn: 3.9811480\ttotal: 5m 12s\tremaining: 4m 6s\n",
            "560:\tlearn: 3.9809515\ttotal: 5m 13s\tremaining: 4m 5s\n",
            "562:\tlearn: 3.9801259\ttotal: 5m 14s\tremaining: 4m 3s\n",
            "564:\tlearn: 3.9797243\ttotal: 5m 15s\tremaining: 4m 2s\n",
            "566:\tlearn: 3.9793936\ttotal: 5m 16s\tremaining: 4m 1s\n",
            "568:\tlearn: 3.9791571\ttotal: 5m 17s\tremaining: 4m\n",
            "570:\tlearn: 3.9788063\ttotal: 5m 18s\tremaining: 3m 59s\n",
            "572:\tlearn: 3.9785520\ttotal: 5m 19s\tremaining: 3m 58s\n",
            "574:\tlearn: 3.9783604\ttotal: 5m 21s\tremaining: 3m 57s\n",
            "576:\tlearn: 3.9782329\ttotal: 5m 22s\tremaining: 3m 56s\n",
            "578:\tlearn: 3.9778044\ttotal: 5m 23s\tremaining: 3m 55s\n",
            "580:\tlearn: 3.9776372\ttotal: 5m 24s\tremaining: 3m 53s\n",
            "582:\tlearn: 3.9773029\ttotal: 5m 25s\tremaining: 3m 52s\n",
            "584:\tlearn: 3.9770403\ttotal: 5m 26s\tremaining: 3m 51s\n",
            "586:\tlearn: 3.9765760\ttotal: 5m 27s\tremaining: 3m 50s\n",
            "588:\tlearn: 3.9761244\ttotal: 5m 28s\tremaining: 3m 49s\n",
            "590:\tlearn: 3.9759052\ttotal: 5m 29s\tremaining: 3m 48s\n",
            "592:\tlearn: 3.9758296\ttotal: 5m 31s\tremaining: 3m 47s\n",
            "594:\tlearn: 3.9756632\ttotal: 5m 32s\tremaining: 3m 46s\n",
            "596:\tlearn: 3.9753571\ttotal: 5m 33s\tremaining: 3m 45s\n",
            "598:\tlearn: 3.9746766\ttotal: 5m 34s\tremaining: 3m 43s\n",
            "600:\tlearn: 3.9742771\ttotal: 5m 35s\tremaining: 3m 42s\n",
            "602:\tlearn: 3.9736196\ttotal: 5m 36s\tremaining: 3m 41s\n",
            "604:\tlearn: 3.9734213\ttotal: 5m 37s\tremaining: 3m 40s\n",
            "606:\tlearn: 3.9732032\ttotal: 5m 38s\tremaining: 3m 39s\n",
            "608:\tlearn: 3.9729703\ttotal: 5m 40s\tremaining: 3m 38s\n",
            "610:\tlearn: 3.9726907\ttotal: 5m 41s\tremaining: 3m 37s\n",
            "612:\tlearn: 3.9721723\ttotal: 5m 42s\tremaining: 3m 36s\n",
            "614:\tlearn: 3.9717162\ttotal: 5m 43s\tremaining: 3m 34s\n",
            "616:\tlearn: 3.9716526\ttotal: 5m 44s\tremaining: 3m 33s\n",
            "618:\tlearn: 3.9714360\ttotal: 5m 45s\tremaining: 3m 32s\n",
            "620:\tlearn: 3.9711160\ttotal: 5m 46s\tremaining: 3m 31s\n",
            "622:\tlearn: 3.9706375\ttotal: 5m 47s\tremaining: 3m 30s\n",
            "624:\tlearn: 3.9704067\ttotal: 5m 49s\tremaining: 3m 29s\n",
            "626:\tlearn: 3.9698914\ttotal: 5m 50s\tremaining: 3m 28s\n",
            "628:\tlearn: 3.9694555\ttotal: 5m 51s\tremaining: 3m 27s\n",
            "630:\tlearn: 3.9690458\ttotal: 5m 52s\tremaining: 3m 26s\n",
            "632:\tlearn: 3.9683124\ttotal: 5m 53s\tremaining: 3m 24s\n",
            "634:\tlearn: 3.9680319\ttotal: 5m 54s\tremaining: 3m 23s\n",
            "636:\tlearn: 3.9678637\ttotal: 5m 55s\tremaining: 3m 22s\n",
            "638:\tlearn: 3.9675519\ttotal: 5m 56s\tremaining: 3m 21s\n",
            "640:\tlearn: 3.9673982\ttotal: 5m 57s\tremaining: 3m 20s\n",
            "642:\tlearn: 3.9671839\ttotal: 5m 59s\tremaining: 3m 19s\n",
            "644:\tlearn: 3.9669822\ttotal: 6m\tremaining: 3m 18s\n",
            "646:\tlearn: 3.9669297\ttotal: 6m 1s\tremaining: 3m 17s\n",
            "648:\tlearn: 3.9667674\ttotal: 6m 2s\tremaining: 3m 15s\n",
            "650:\tlearn: 3.9665737\ttotal: 6m 3s\tremaining: 3m 14s\n",
            "652:\tlearn: 3.9661939\ttotal: 6m 4s\tremaining: 3m 13s\n",
            "654:\tlearn: 3.9657840\ttotal: 6m 5s\tremaining: 3m 12s\n",
            "656:\tlearn: 3.9654693\ttotal: 6m 6s\tremaining: 3m 11s\n",
            "658:\tlearn: 3.9652659\ttotal: 6m 7s\tremaining: 3m 10s\n",
            "660:\tlearn: 3.9651026\ttotal: 6m 8s\tremaining: 3m 9s\n",
            "662:\tlearn: 3.9650153\ttotal: 6m 9s\tremaining: 3m 8s\n",
            "664:\tlearn: 3.9648070\ttotal: 6m 11s\tremaining: 3m 6s\n",
            "666:\tlearn: 3.9641434\ttotal: 6m 12s\tremaining: 3m 5s\n",
            "668:\tlearn: 3.9640562\ttotal: 6m 13s\tremaining: 3m 4s\n",
            "670:\tlearn: 3.9638694\ttotal: 6m 14s\tremaining: 3m 3s\n",
            "672:\tlearn: 3.9637337\ttotal: 6m 15s\tremaining: 3m 2s\n",
            "674:\tlearn: 3.9634932\ttotal: 6m 16s\tremaining: 3m 1s\n",
            "676:\tlearn: 3.9633438\ttotal: 6m 17s\tremaining: 3m\n",
            "678:\tlearn: 3.9631304\ttotal: 6m 18s\tremaining: 2m 59s\n",
            "680:\tlearn: 3.9627805\ttotal: 6m 20s\tremaining: 2m 58s\n",
            "682:\tlearn: 3.9625473\ttotal: 6m 21s\tremaining: 2m 56s\n",
            "684:\tlearn: 3.9623609\ttotal: 6m 22s\tremaining: 2m 55s\n",
            "686:\tlearn: 3.9617738\ttotal: 6m 23s\tremaining: 2m 54s\n",
            "688:\tlearn: 3.9615362\ttotal: 6m 24s\tremaining: 2m 53s\n",
            "690:\tlearn: 3.9614309\ttotal: 6m 25s\tremaining: 2m 52s\n",
            "692:\tlearn: 3.9609606\ttotal: 6m 26s\tremaining: 2m 51s\n",
            "694:\tlearn: 3.9607435\ttotal: 6m 27s\tremaining: 2m 50s\n",
            "696:\tlearn: 3.9605260\ttotal: 6m 28s\tremaining: 2m 49s\n",
            "698:\tlearn: 3.9603449\ttotal: 6m 30s\tremaining: 2m 47s\n",
            "700:\tlearn: 3.9601296\ttotal: 6m 31s\tremaining: 2m 46s\n",
            "702:\tlearn: 3.9599438\ttotal: 6m 32s\tremaining: 2m 45s\n",
            "704:\tlearn: 3.9598013\ttotal: 6m 33s\tremaining: 2m 44s\n",
            "706:\tlearn: 3.9595371\ttotal: 6m 34s\tremaining: 2m 43s\n",
            "708:\tlearn: 3.9594225\ttotal: 6m 35s\tremaining: 2m 42s\n",
            "710:\tlearn: 3.9590607\ttotal: 6m 36s\tremaining: 2m 41s\n",
            "712:\tlearn: 3.9584734\ttotal: 6m 37s\tremaining: 2m 40s\n",
            "714:\tlearn: 3.9581262\ttotal: 6m 38s\tremaining: 2m 39s\n",
            "716:\tlearn: 3.9576869\ttotal: 6m 40s\tremaining: 2m 37s\n",
            "718:\tlearn: 3.9575230\ttotal: 6m 41s\tremaining: 2m 36s\n",
            "720:\tlearn: 3.9574404\ttotal: 6m 42s\tremaining: 2m 35s\n",
            "722:\tlearn: 3.9572177\ttotal: 6m 43s\tremaining: 2m 34s\n",
            "724:\tlearn: 3.9569474\ttotal: 6m 44s\tremaining: 2m 33s\n",
            "726:\tlearn: 3.9567019\ttotal: 6m 45s\tremaining: 2m 32s\n",
            "728:\tlearn: 3.9565000\ttotal: 6m 46s\tremaining: 2m 31s\n",
            "730:\tlearn: 3.9563126\ttotal: 6m 48s\tremaining: 2m 30s\n",
            "732:\tlearn: 3.9559841\ttotal: 6m 49s\tremaining: 2m 29s\n",
            "734:\tlearn: 3.9557368\ttotal: 6m 50s\tremaining: 2m 27s\n",
            "736:\tlearn: 3.9550088\ttotal: 6m 51s\tremaining: 2m 26s\n",
            "738:\tlearn: 3.9542967\ttotal: 6m 52s\tremaining: 2m 25s\n",
            "740:\tlearn: 3.9541788\ttotal: 6m 53s\tremaining: 2m 24s\n",
            "742:\tlearn: 3.9539857\ttotal: 6m 54s\tremaining: 2m 23s\n",
            "744:\tlearn: 3.9535897\ttotal: 6m 55s\tremaining: 2m 22s\n",
            "746:\tlearn: 3.9532507\ttotal: 6m 56s\tremaining: 2m 21s\n",
            "748:\tlearn: 3.9531218\ttotal: 6m 58s\tremaining: 2m 20s\n",
            "750:\tlearn: 3.9527636\ttotal: 6m 59s\tremaining: 2m 18s\n",
            "752:\tlearn: 3.9526317\ttotal: 7m\tremaining: 2m 17s\n",
            "754:\tlearn: 3.9518989\ttotal: 7m 1s\tremaining: 2m 16s\n",
            "756:\tlearn: 3.9513421\ttotal: 7m 2s\tremaining: 2m 15s\n",
            "758:\tlearn: 3.9511694\ttotal: 7m 3s\tremaining: 2m 14s\n",
            "760:\tlearn: 3.9509943\ttotal: 7m 4s\tremaining: 2m 13s\n",
            "762:\tlearn: 3.9508533\ttotal: 7m 5s\tremaining: 2m 12s\n",
            "764:\tlearn: 3.9505802\ttotal: 7m 7s\tremaining: 2m 11s\n",
            "766:\tlearn: 3.9504283\ttotal: 7m 8s\tremaining: 2m 10s\n",
            "768:\tlearn: 3.9501564\ttotal: 7m 9s\tremaining: 2m 8s\n",
            "770:\tlearn: 3.9500302\ttotal: 7m 10s\tremaining: 2m 7s\n",
            "772:\tlearn: 3.9497478\ttotal: 7m 11s\tremaining: 2m 6s\n",
            "774:\tlearn: 3.9496434\ttotal: 7m 12s\tremaining: 2m 5s\n",
            "776:\tlearn: 3.9495214\ttotal: 7m 13s\tremaining: 2m 4s\n",
            "778:\tlearn: 3.9489933\ttotal: 7m 14s\tremaining: 2m 3s\n",
            "780:\tlearn: 3.9486172\ttotal: 7m 16s\tremaining: 2m 2s\n",
            "782:\tlearn: 3.9481468\ttotal: 7m 17s\tremaining: 2m 1s\n",
            "784:\tlearn: 3.9479719\ttotal: 7m 18s\tremaining: 2m\n",
            "786:\tlearn: 3.9478600\ttotal: 7m 19s\tremaining: 1m 58s\n",
            "788:\tlearn: 3.9474560\ttotal: 7m 20s\tremaining: 1m 57s\n",
            "790:\tlearn: 3.9471388\ttotal: 7m 21s\tremaining: 1m 56s\n",
            "792:\tlearn: 3.9467097\ttotal: 7m 22s\tremaining: 1m 55s\n",
            "794:\tlearn: 3.9465014\ttotal: 7m 24s\tremaining: 1m 54s\n",
            "796:\tlearn: 3.9462727\ttotal: 7m 25s\tremaining: 1m 53s\n",
            "798:\tlearn: 3.9460277\ttotal: 7m 26s\tremaining: 1m 52s\n",
            "800:\tlearn: 3.9458125\ttotal: 7m 27s\tremaining: 1m 51s\n",
            "802:\tlearn: 3.9455939\ttotal: 7m 28s\tremaining: 1m 50s\n",
            "804:\tlearn: 3.9454227\ttotal: 7m 29s\tremaining: 1m 48s\n",
            "806:\tlearn: 3.9452365\ttotal: 7m 30s\tremaining: 1m 47s\n",
            "808:\tlearn: 3.9449927\ttotal: 7m 31s\tremaining: 1m 46s\n",
            "810:\tlearn: 3.9447359\ttotal: 7m 32s\tremaining: 1m 45s\n",
            "812:\tlearn: 3.9445633\ttotal: 7m 33s\tremaining: 1m 44s\n",
            "814:\tlearn: 3.9440902\ttotal: 7m 35s\tremaining: 1m 43s\n",
            "816:\tlearn: 3.9439715\ttotal: 7m 36s\tremaining: 1m 42s\n",
            "818:\tlearn: 3.9437344\ttotal: 7m 37s\tremaining: 1m 41s\n",
            "820:\tlearn: 3.9434266\ttotal: 7m 38s\tremaining: 1m 39s\n",
            "822:\tlearn: 3.9432470\ttotal: 7m 39s\tremaining: 1m 38s\n",
            "824:\tlearn: 3.9428447\ttotal: 7m 40s\tremaining: 1m 37s\n",
            "826:\tlearn: 3.9426496\ttotal: 7m 41s\tremaining: 1m 36s\n",
            "828:\tlearn: 3.9424059\ttotal: 7m 42s\tremaining: 1m 35s\n",
            "830:\tlearn: 3.9420825\ttotal: 7m 44s\tremaining: 1m 34s\n",
            "832:\tlearn: 3.9419459\ttotal: 7m 45s\tremaining: 1m 33s\n",
            "834:\tlearn: 3.9417462\ttotal: 7m 46s\tremaining: 1m 32s\n",
            "836:\tlearn: 3.9414542\ttotal: 7m 47s\tremaining: 1m 31s\n",
            "838:\tlearn: 3.9412967\ttotal: 7m 48s\tremaining: 1m 29s\n",
            "840:\tlearn: 3.9410639\ttotal: 7m 49s\tremaining: 1m 28s\n",
            "842:\tlearn: 3.9409033\ttotal: 7m 50s\tremaining: 1m 27s\n",
            "844:\tlearn: 3.9407615\ttotal: 7m 51s\tremaining: 1m 26s\n",
            "846:\tlearn: 3.9403481\ttotal: 7m 53s\tremaining: 1m 25s\n",
            "848:\tlearn: 3.9401770\ttotal: 7m 54s\tremaining: 1m 24s\n",
            "850:\tlearn: 3.9399742\ttotal: 7m 55s\tremaining: 1m 23s\n",
            "852:\tlearn: 3.9398324\ttotal: 7m 56s\tremaining: 1m 22s\n",
            "854:\tlearn: 3.9396330\ttotal: 7m 57s\tremaining: 1m 20s\n",
            "856:\tlearn: 3.9394526\ttotal: 7m 58s\tremaining: 1m 19s\n",
            "858:\tlearn: 3.9393321\ttotal: 7m 59s\tremaining: 1m 18s\n",
            "860:\tlearn: 3.9391605\ttotal: 8m\tremaining: 1m 17s\n",
            "862:\tlearn: 3.9389886\ttotal: 8m 1s\tremaining: 1m 16s\n",
            "864:\tlearn: 3.9385871\ttotal: 8m 3s\tremaining: 1m 15s\n",
            "866:\tlearn: 3.9383064\ttotal: 8m 4s\tremaining: 1m 14s\n",
            "868:\tlearn: 3.9381325\ttotal: 8m 5s\tremaining: 1m 13s\n",
            "870:\tlearn: 3.9378889\ttotal: 8m 6s\tremaining: 1m 12s\n",
            "872:\tlearn: 3.9376911\ttotal: 8m 7s\tremaining: 1m 10s\n",
            "874:\tlearn: 3.9376404\ttotal: 8m 8s\tremaining: 1m 9s\n",
            "876:\tlearn: 3.9374667\ttotal: 8m 9s\tremaining: 1m 8s\n",
            "878:\tlearn: 3.9373523\ttotal: 8m 10s\tremaining: 1m 7s\n",
            "880:\tlearn: 3.9371234\ttotal: 8m 12s\tremaining: 1m 6s\n",
            "882:\tlearn: 3.9369083\ttotal: 8m 13s\tremaining: 1m 5s\n",
            "884:\tlearn: 3.9368015\ttotal: 8m 14s\tremaining: 1m 4s\n",
            "886:\tlearn: 3.9367027\ttotal: 8m 15s\tremaining: 1m 3s\n",
            "888:\tlearn: 3.9363880\ttotal: 8m 16s\tremaining: 1m 1s\n",
            "890:\tlearn: 3.9360222\ttotal: 8m 17s\tremaining: 1m\n",
            "892:\tlearn: 3.9358122\ttotal: 8m 18s\tremaining: 59.8s\n",
            "894:\tlearn: 3.9353693\ttotal: 8m 19s\tremaining: 58.6s\n",
            "896:\tlearn: 3.9352145\ttotal: 8m 21s\tremaining: 57.5s\n",
            "898:\tlearn: 3.9350271\ttotal: 8m 22s\tremaining: 56.4s\n",
            "900:\tlearn: 3.9348881\ttotal: 8m 23s\tremaining: 55.3s\n",
            "902:\tlearn: 3.9345450\ttotal: 8m 24s\tremaining: 54.2s\n",
            "904:\tlearn: 3.9341906\ttotal: 8m 25s\tremaining: 53.1s\n",
            "906:\tlearn: 3.9341307\ttotal: 8m 26s\tremaining: 51.9s\n",
            "908:\tlearn: 3.9340091\ttotal: 8m 27s\tremaining: 50.8s\n",
            "910:\tlearn: 3.9337193\ttotal: 8m 28s\tremaining: 49.7s\n",
            "912:\tlearn: 3.9335074\ttotal: 8m 29s\tremaining: 48.6s\n",
            "914:\tlearn: 3.9333819\ttotal: 8m 30s\tremaining: 47.5s\n",
            "916:\tlearn: 3.9331328\ttotal: 8m 32s\tremaining: 46.4s\n",
            "918:\tlearn: 3.9329662\ttotal: 8m 33s\tremaining: 45.2s\n",
            "920:\tlearn: 3.9328181\ttotal: 8m 34s\tremaining: 44.1s\n",
            "922:\tlearn: 3.9326754\ttotal: 8m 35s\tremaining: 43s\n",
            "924:\tlearn: 3.9325738\ttotal: 8m 36s\tremaining: 41.9s\n",
            "926:\tlearn: 3.9322672\ttotal: 8m 37s\tremaining: 40.8s\n",
            "928:\tlearn: 3.9321742\ttotal: 8m 38s\tremaining: 39.7s\n",
            "930:\tlearn: 3.9316367\ttotal: 8m 39s\tremaining: 38.5s\n",
            "932:\tlearn: 3.9315182\ttotal: 8m 41s\tremaining: 37.4s\n",
            "934:\tlearn: 3.9313706\ttotal: 8m 42s\tremaining: 36.3s\n",
            "936:\tlearn: 3.9312595\ttotal: 8m 43s\tremaining: 35.2s\n",
            "938:\tlearn: 3.9310651\ttotal: 8m 44s\tremaining: 34.1s\n",
            "940:\tlearn: 3.9309412\ttotal: 8m 45s\tremaining: 33s\n",
            "942:\tlearn: 3.9308689\ttotal: 8m 46s\tremaining: 31.8s\n",
            "944:\tlearn: 3.9306855\ttotal: 8m 47s\tremaining: 30.7s\n",
            "946:\tlearn: 3.9304066\ttotal: 8m 48s\tremaining: 29.6s\n",
            "948:\tlearn: 3.9303611\ttotal: 8m 50s\tremaining: 28.5s\n",
            "950:\tlearn: 3.9303006\ttotal: 8m 51s\tremaining: 27.4s\n",
            "952:\tlearn: 3.9299967\ttotal: 8m 52s\tremaining: 26.2s\n",
            "954:\tlearn: 3.9298578\ttotal: 8m 53s\tremaining: 25.1s\n",
            "956:\tlearn: 3.9297364\ttotal: 8m 54s\tremaining: 24s\n",
            "958:\tlearn: 3.9295593\ttotal: 8m 55s\tremaining: 22.9s\n",
            "960:\tlearn: 3.9293110\ttotal: 8m 56s\tremaining: 21.8s\n",
            "962:\tlearn: 3.9292479\ttotal: 8m 57s\tremaining: 20.7s\n",
            "964:\tlearn: 3.9291022\ttotal: 8m 58s\tremaining: 19.5s\n",
            "966:\tlearn: 3.9289579\ttotal: 9m\tremaining: 18.4s\n",
            "968:\tlearn: 3.9287584\ttotal: 9m 1s\tremaining: 17.3s\n",
            "970:\tlearn: 3.9285878\ttotal: 9m 2s\tremaining: 16.2s\n",
            "972:\tlearn: 3.9285005\ttotal: 9m 3s\tremaining: 15.1s\n",
            "974:\tlearn: 3.9282841\ttotal: 9m 4s\tremaining: 14s\n",
            "976:\tlearn: 3.9282572\ttotal: 9m 5s\tremaining: 12.8s\n",
            "978:\tlearn: 3.9281443\ttotal: 9m 6s\tremaining: 11.7s\n",
            "980:\tlearn: 3.9279227\ttotal: 9m 7s\tremaining: 10.6s\n",
            "982:\tlearn: 3.9278841\ttotal: 9m 8s\tremaining: 9.49s\n",
            "984:\tlearn: 3.9277719\ttotal: 9m 10s\tremaining: 8.38s\n",
            "986:\tlearn: 3.9274839\ttotal: 9m 11s\tremaining: 7.26s\n",
            "988:\tlearn: 3.9272263\ttotal: 9m 12s\tremaining: 6.14s\n",
            "990:\tlearn: 3.9271374\ttotal: 9m 13s\tremaining: 5.03s\n",
            "992:\tlearn: 3.9268661\ttotal: 9m 14s\tremaining: 3.91s\n",
            "994:\tlearn: 3.9266433\ttotal: 9m 15s\tremaining: 2.79s\n",
            "996:\tlearn: 3.9265263\ttotal: 9m 16s\tremaining: 1.67s\n",
            "998:\tlearn: 3.9264549\ttotal: 9m 17s\tremaining: 558ms\n",
            "999:\tlearn: 3.9263764\ttotal: 9m 18s\tremaining: 0us\n"
          ]
        },
        {
          "output_type": "execute_result",
          "data": {
            "text/plain": [
              "<catboost.core.CatBoostRegressor at 0x7f01a082bc50>"
            ]
          },
          "metadata": {},
          "execution_count": 17
        }
      ]
    },
    {
      "cell_type": "code",
      "metadata": {
        "colab": {
          "base_uri": "https://localhost:8080/"
        },
        "id": "YO-BNCxONDUx",
        "outputId": "d0f4a9f8-014e-4539-c9b2-465da2e01bfc"
      },
      "source": [
        "# Evaluting the model(on train)\n",
        "\n",
        "model.score(X_train, y_train)"
      ],
      "execution_count": 18,
      "outputs": [
        {
          "output_type": "execute_result",
          "data": {
            "text/plain": [
              "0.765647375181861"
            ]
          },
          "metadata": {},
          "execution_count": 18
        }
      ]
    },
    {
      "cell_type": "code",
      "metadata": {
        "colab": {
          "base_uri": "https://localhost:8080/"
        },
        "id": "apo348pqPOC_",
        "outputId": "c77eea3d-53ca-440c-d3e7-ebc2ed2c285a"
      },
      "source": [
        "# Evaluting the model(on valid)\n",
        "\n",
        "model.score(X_valid, y_valid)"
      ],
      "execution_count": 19,
      "outputs": [
        {
          "output_type": "execute_result",
          "data": {
            "text/plain": [
              "0.7653265439790684"
            ]
          },
          "metadata": {},
          "execution_count": 19
        }
      ]
    },
    {
      "cell_type": "code",
      "metadata": {
        "colab": {
          "base_uri": "https://localhost:8080/",
          "height": 289
        },
        "id": "vTdX0LWSQo-L",
        "outputId": "254c441d-a354-4403-da94-c7a7c3cf601c"
      },
      "source": [
        "# Loading the test set\n",
        "\n",
        "test = pd.read_csv('test.csv', index_col=['id'])\n",
        "test.head()"
      ],
      "execution_count": 20,
      "outputs": [
        {
          "output_type": "stream",
          "name": "stderr",
          "text": [
            "/usr/local/lib/python3.7/dist-packages/numpy/lib/arraysetops.py:580: FutureWarning: elementwise comparison failed; returning scalar instead, but in the future will perform elementwise comparison\n",
            "  mask |= (ar1 == a)\n"
          ]
        },
        {
          "output_type": "execute_result",
          "data": {
            "text/html": [
              "<div>\n",
              "<style scoped>\n",
              "    .dataframe tbody tr th:only-of-type {\n",
              "        vertical-align: middle;\n",
              "    }\n",
              "\n",
              "    .dataframe tbody tr th {\n",
              "        vertical-align: top;\n",
              "    }\n",
              "\n",
              "    .dataframe thead th {\n",
              "        text-align: right;\n",
              "    }\n",
              "</style>\n",
              "<table border=\"1\" class=\"dataframe\">\n",
              "  <thead>\n",
              "    <tr style=\"text-align: right;\">\n",
              "      <th></th>\n",
              "      <th>breath_id</th>\n",
              "      <th>R</th>\n",
              "      <th>C</th>\n",
              "      <th>time_step</th>\n",
              "      <th>u_in</th>\n",
              "      <th>u_out</th>\n",
              "    </tr>\n",
              "    <tr>\n",
              "      <th>id</th>\n",
              "      <th></th>\n",
              "      <th></th>\n",
              "      <th></th>\n",
              "      <th></th>\n",
              "      <th></th>\n",
              "      <th></th>\n",
              "    </tr>\n",
              "  </thead>\n",
              "  <tbody>\n",
              "    <tr>\n",
              "      <th>1</th>\n",
              "      <td>0</td>\n",
              "      <td>5</td>\n",
              "      <td>20</td>\n",
              "      <td>0.000000</td>\n",
              "      <td>0.000000</td>\n",
              "      <td>0</td>\n",
              "    </tr>\n",
              "    <tr>\n",
              "      <th>2</th>\n",
              "      <td>0</td>\n",
              "      <td>5</td>\n",
              "      <td>20</td>\n",
              "      <td>0.031904</td>\n",
              "      <td>7.515046</td>\n",
              "      <td>0</td>\n",
              "    </tr>\n",
              "    <tr>\n",
              "      <th>3</th>\n",
              "      <td>0</td>\n",
              "      <td>5</td>\n",
              "      <td>20</td>\n",
              "      <td>0.063827</td>\n",
              "      <td>14.651675</td>\n",
              "      <td>0</td>\n",
              "    </tr>\n",
              "    <tr>\n",
              "      <th>4</th>\n",
              "      <td>0</td>\n",
              "      <td>5</td>\n",
              "      <td>20</td>\n",
              "      <td>0.095751</td>\n",
              "      <td>21.230610</td>\n",
              "      <td>0</td>\n",
              "    </tr>\n",
              "    <tr>\n",
              "      <th>5</th>\n",
              "      <td>0</td>\n",
              "      <td>5</td>\n",
              "      <td>20</td>\n",
              "      <td>0.127644</td>\n",
              "      <td>26.320956</td>\n",
              "      <td>0</td>\n",
              "    </tr>\n",
              "  </tbody>\n",
              "</table>\n",
              "</div>"
            ],
            "text/plain": [
              "    breath_id  R   C  time_step       u_in  u_out\n",
              "id                                               \n",
              "1           0  5  20   0.000000   0.000000      0\n",
              "2           0  5  20   0.031904   7.515046      0\n",
              "3           0  5  20   0.063827  14.651675      0\n",
              "4           0  5  20   0.095751  21.230610      0\n",
              "5           0  5  20   0.127644  26.320956      0"
            ]
          },
          "metadata": {},
          "execution_count": 20
        }
      ]
    },
    {
      "cell_type": "code",
      "metadata": {
        "id": "FG_ETotKQffO"
      },
      "source": [
        "# Prediction on test set\n",
        "\n",
        "test_pred = model.predict(test.drop('breath_id', axis=1))"
      ],
      "execution_count": 21,
      "outputs": []
    },
    {
      "cell_type": "code",
      "metadata": {
        "id": "lK-A-EzgPUp1"
      },
      "source": [
        "# Submission\n",
        "\n",
        "submission = pd.read_csv('sample_submission.csv')\n",
        "submission['pressure'] = test_pred\n",
        "submission.to_csv('output.csv', index=False)"
      ],
      "execution_count": 22,
      "outputs": []
    },
    {
      "cell_type": "code",
      "metadata": {
        "colab": {
          "base_uri": "https://localhost:8080/"
        },
        "id": "ABFV88htPUsG",
        "outputId": "cb65c137-477c-4ca9-d04c-dfcb777a6b34"
      },
      "source": [
        "# Kaggle Submission\n",
        "\n",
        "!kaggle competitions submit -c ventilator-pressure-prediction -f output.csv -m \"CatBoost without breath id\""
      ],
      "execution_count": 23,
      "outputs": [
        {
          "output_type": "stream",
          "name": "stdout",
          "text": [
            "Warning: Looks like you're using an outdated API Version, please consider updating (server 1.5.12 / client 1.5.4)\n",
            "100% 99.6M/99.6M [00:05<00:00, 18.7MB/s]\n",
            "Successfully submitted to Google Brain - Ventilator Pressure Prediction"
          ]
        }
      ]
    }
  ]
}