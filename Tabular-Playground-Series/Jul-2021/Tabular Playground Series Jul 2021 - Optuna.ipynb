{
  "nbformat": 4,
  "nbformat_minor": 2,
  "metadata": {
    "colab": {
      "name": "Tabular Playground Series Jul 2021 - Optuna.ipynb",
      "provenance": [],
      "collapsed_sections": []
    },
    "kernelspec": {
      "name": "python3",
      "display_name": "Python 3"
    },
    "language_info": {
      "name": "python"
    }
  },
  "cells": [
    {
      "cell_type": "markdown",
      "source": [
        "# Tabular Playground Series - Jul 2021"
      ],
      "metadata": {
        "id": "bomFllskS35j"
      }
    },
    {
      "cell_type": "code",
      "execution_count": null,
      "source": [
        "!pip3 install optuna\n",
        "!pip3 install xgboost\n",
        "!pip3 install lightgbm\n",
        "!pip3 install catboost"
      ],
      "outputs": [
        {
          "output_type": "stream",
          "name": "stdout",
          "text": [
            "Collecting optuna\n",
            "  Downloading optuna-2.8.0-py3-none-any.whl (301 kB)\n",
            "\u001b[K     |████████████████████████████████| 301 kB 4.0 MB/s \n",
            "\u001b[?25hCollecting alembic\n",
            "  Downloading alembic-1.6.5-py2.py3-none-any.whl (164 kB)\n",
            "\u001b[K     |████████████████████████████████| 164 kB 7.3 MB/s \n",
            "\u001b[?25hRequirement already satisfied: scipy!=1.4.0 in /usr/local/lib/python3.7/dist-packages (from optuna) (1.4.1)\n",
            "Requirement already satisfied: packaging>=20.0 in /usr/local/lib/python3.7/dist-packages (from optuna) (21.0)\n",
            "Requirement already satisfied: tqdm in /usr/local/lib/python3.7/dist-packages (from optuna) (4.41.1)\n",
            "Collecting cliff\n",
            "  Downloading cliff-3.8.0-py3-none-any.whl (80 kB)\n",
            "\u001b[K     |████████████████████████████████| 80 kB 5.0 MB/s \n",
            "\u001b[?25hRequirement already satisfied: numpy in /usr/local/lib/python3.7/dist-packages (from optuna) (1.19.5)\n",
            "Collecting colorlog\n",
            "  Downloading colorlog-5.0.1-py2.py3-none-any.whl (10 kB)\n",
            "Requirement already satisfied: sqlalchemy>=1.1.0 in /usr/local/lib/python3.7/dist-packages (from optuna) (1.4.20)\n",
            "Collecting cmaes>=0.8.2\n",
            "  Downloading cmaes-0.8.2-py3-none-any.whl (15 kB)\n",
            "Requirement already satisfied: pyparsing>=2.0.2 in /usr/local/lib/python3.7/dist-packages (from packaging>=20.0->optuna) (2.4.7)\n",
            "Requirement already satisfied: importlib-metadata in /usr/local/lib/python3.7/dist-packages (from sqlalchemy>=1.1.0->optuna) (4.6.1)\n",
            "Requirement already satisfied: greenlet!=0.4.17 in /usr/local/lib/python3.7/dist-packages (from sqlalchemy>=1.1.0->optuna) (1.1.0)\n",
            "Collecting Mako\n",
            "  Downloading Mako-1.1.4-py2.py3-none-any.whl (75 kB)\n",
            "\u001b[K     |████████████████████████████████| 75 kB 2.9 MB/s \n",
            "\u001b[?25hCollecting python-editor>=0.3\n",
            "  Downloading python_editor-1.0.4-py3-none-any.whl (4.9 kB)\n",
            "Requirement already satisfied: python-dateutil in /usr/local/lib/python3.7/dist-packages (from alembic->optuna) (2.8.1)\n",
            "Collecting pbr!=2.1.0,>=2.0.0\n",
            "  Downloading pbr-5.6.0-py2.py3-none-any.whl (111 kB)\n",
            "\u001b[K     |████████████████████████████████| 111 kB 7.3 MB/s \n",
            "\u001b[?25hRequirement already satisfied: PrettyTable>=0.7.2 in /usr/local/lib/python3.7/dist-packages (from cliff->optuna) (2.1.0)\n",
            "Collecting stevedore>=2.0.1\n",
            "  Downloading stevedore-3.3.0-py3-none-any.whl (49 kB)\n",
            "\u001b[K     |████████████████████████████████| 49 kB 5.0 MB/s \n",
            "\u001b[?25hRequirement already satisfied: PyYAML>=3.12 in /usr/local/lib/python3.7/dist-packages (from cliff->optuna) (3.13)\n",
            "Collecting cmd2>=1.0.0\n",
            "  Downloading cmd2-2.1.2-py3-none-any.whl (141 kB)\n",
            "\u001b[K     |████████████████████████████████| 141 kB 7.2 MB/s \n",
            "\u001b[?25hRequirement already satisfied: wcwidth>=0.1.7 in /usr/local/lib/python3.7/dist-packages (from cmd2>=1.0.0->cliff->optuna) (0.2.5)\n",
            "Collecting pyperclip>=1.6\n",
            "  Downloading pyperclip-1.8.2.tar.gz (20 kB)\n",
            "Collecting colorama>=0.3.7\n",
            "  Downloading colorama-0.4.4-py2.py3-none-any.whl (16 kB)\n",
            "Requirement already satisfied: attrs>=16.3.0 in /usr/local/lib/python3.7/dist-packages (from cmd2>=1.0.0->cliff->optuna) (21.2.0)\n",
            "Requirement already satisfied: typing-extensions in /usr/local/lib/python3.7/dist-packages (from cmd2>=1.0.0->cliff->optuna) (3.7.4.3)\n",
            "Requirement already satisfied: zipp>=0.5 in /usr/local/lib/python3.7/dist-packages (from importlib-metadata->sqlalchemy>=1.1.0->optuna) (3.5.0)\n",
            "Requirement already satisfied: MarkupSafe>=0.9.2 in /usr/local/lib/python3.7/dist-packages (from Mako->alembic->optuna) (2.0.1)\n",
            "Requirement already satisfied: six>=1.5 in /usr/local/lib/python3.7/dist-packages (from python-dateutil->alembic->optuna) (1.15.0)\n",
            "Building wheels for collected packages: pyperclip\n",
            "  Building wheel for pyperclip (setup.py) ... \u001b[?25l\u001b[?25hdone\n",
            "  Created wheel for pyperclip: filename=pyperclip-1.8.2-py3-none-any.whl size=11137 sha256=66e0e50072c4ba9570ea12f46eb95001df6a505b12ab04d0fa560e9fed268a60\n",
            "  Stored in directory: /root/.cache/pip/wheels/9f/18/84/8f69f8b08169c7bae2dde6bd7daf0c19fca8c8e500ee620a28\n",
            "Successfully built pyperclip\n",
            "Installing collected packages: pyperclip, pbr, colorama, stevedore, python-editor, Mako, cmd2, colorlog, cmaes, cliff, alembic, optuna\n",
            "Successfully installed Mako-1.1.4 alembic-1.6.5 cliff-3.8.0 cmaes-0.8.2 cmd2-2.1.2 colorama-0.4.4 colorlog-5.0.1 optuna-2.8.0 pbr-5.6.0 pyperclip-1.8.2 python-editor-1.0.4 stevedore-3.3.0\n",
            "Requirement already satisfied: xgboost in /usr/local/lib/python3.7/dist-packages (0.90)\n",
            "Requirement already satisfied: scipy in /usr/local/lib/python3.7/dist-packages (from xgboost) (1.4.1)\n",
            "Requirement already satisfied: numpy in /usr/local/lib/python3.7/dist-packages (from xgboost) (1.19.5)\n",
            "Requirement already satisfied: lightgbm in /usr/local/lib/python3.7/dist-packages (2.2.3)\n",
            "Requirement already satisfied: scipy in /usr/local/lib/python3.7/dist-packages (from lightgbm) (1.4.1)\n",
            "Requirement already satisfied: numpy in /usr/local/lib/python3.7/dist-packages (from lightgbm) (1.19.5)\n",
            "Requirement already satisfied: scikit-learn in /usr/local/lib/python3.7/dist-packages (from lightgbm) (0.22.2.post1)\n",
            "Requirement already satisfied: joblib>=0.11 in /usr/local/lib/python3.7/dist-packages (from scikit-learn->lightgbm) (1.0.1)\n",
            "Collecting catboost\n",
            "  Downloading catboost-0.26-cp37-none-manylinux1_x86_64.whl (69.2 MB)\n",
            "\u001b[K     |████████████████████████████████| 69.2 MB 4.7 kB/s \n",
            "\u001b[?25hRequirement already satisfied: six in /usr/local/lib/python3.7/dist-packages (from catboost) (1.15.0)\n",
            "Requirement already satisfied: pandas>=0.24.0 in /usr/local/lib/python3.7/dist-packages (from catboost) (1.1.5)\n",
            "Requirement already satisfied: scipy in /usr/local/lib/python3.7/dist-packages (from catboost) (1.4.1)\n",
            "Requirement already satisfied: matplotlib in /usr/local/lib/python3.7/dist-packages (from catboost) (3.2.2)\n",
            "Requirement already satisfied: graphviz in /usr/local/lib/python3.7/dist-packages (from catboost) (0.10.1)\n",
            "Requirement already satisfied: numpy>=1.16.0 in /usr/local/lib/python3.7/dist-packages (from catboost) (1.19.5)\n",
            "Requirement already satisfied: plotly in /usr/local/lib/python3.7/dist-packages (from catboost) (4.4.1)\n",
            "Requirement already satisfied: python-dateutil>=2.7.3 in /usr/local/lib/python3.7/dist-packages (from pandas>=0.24.0->catboost) (2.8.1)\n",
            "Requirement already satisfied: pytz>=2017.2 in /usr/local/lib/python3.7/dist-packages (from pandas>=0.24.0->catboost) (2018.9)\n",
            "Requirement already satisfied: pyparsing!=2.0.4,!=2.1.2,!=2.1.6,>=2.0.1 in /usr/local/lib/python3.7/dist-packages (from matplotlib->catboost) (2.4.7)\n",
            "Requirement already satisfied: kiwisolver>=1.0.1 in /usr/local/lib/python3.7/dist-packages (from matplotlib->catboost) (1.3.1)\n",
            "Requirement already satisfied: cycler>=0.10 in /usr/local/lib/python3.7/dist-packages (from matplotlib->catboost) (0.10.0)\n",
            "Requirement already satisfied: retrying>=1.3.3 in /usr/local/lib/python3.7/dist-packages (from plotly->catboost) (1.3.3)\n",
            "Installing collected packages: catboost\n",
            "Successfully installed catboost-0.26\n"
          ]
        }
      ],
      "metadata": {
        "colab": {
          "base_uri": "https://localhost:8080/"
        },
        "id": "rm9-vCFo2Hkm",
        "outputId": "379cdd16-f5b8-454f-abd6-b07ae3de5702"
      }
    },
    {
      "cell_type": "code",
      "execution_count": null,
      "source": [
        "# Required modules\n",
        "\n",
        "import shutil\n",
        "import pickle\n",
        "import optuna\n",
        "import numpy as np\n",
        "import pandas as pd\n",
        "\n",
        "from google.colab import drive\n",
        "\n",
        "from xgboost import XGBRegressor\n",
        "from lightgbm import LGBMRegressor\n",
        "from catboost import CatBoostRegressor\n",
        "\n",
        "from sklearn.svm import SVR\n",
        "from sklearn.pipeline import Pipeline\n",
        "from sklearn.metrics import mean_squared_error\n",
        "from sklearn.tree import DecisionTreeRegressor\n",
        "from sklearn.neighbors import KNeighborsRegressor\n",
        "from sklearn.ensemble import RandomForestRegressor\n",
        "from sklearn.model_selection import train_test_split\n",
        "from sklearn.base import BaseEstimator, TransformerMixin\n",
        "from sklearn.linear_model import LinearRegression, Lasso, Ridge"
      ],
      "outputs": [],
      "metadata": {
        "id": "t8cnCE5ZS1tJ"
      }
    },
    {
      "cell_type": "code",
      "execution_count": null,
      "source": [
        "# Config\n",
        "\n",
        "%matplotlib inline\n",
        "plt.rcParams['figure.figsize'] = (12, 7)"
      ],
      "outputs": [],
      "metadata": {
        "id": "0-UAmHydVGVB"
      }
    },
    {
      "cell_type": "code",
      "execution_count": null,
      "source": [
        "# Mounting the drive\n",
        "\n",
        "drive.mount('/content/mydrive')"
      ],
      "outputs": [
        {
          "output_type": "stream",
          "name": "stdout",
          "text": [
            "Mounted at /content/mydrive\n"
          ]
        }
      ],
      "metadata": {
        "colab": {
          "base_uri": "https://localhost:8080/"
        },
        "id": "mnhC8fnP2mAM",
        "outputId": "875a9286-f2bb-47d8-81b7-efe89fca0c5e"
      }
    },
    {
      "cell_type": "code",
      "execution_count": null,
      "source": [
        "# Moving the data into workspace\n",
        "\n",
        "shutil.copy('/content/mydrive/MyDrive/myKaggle/Tabular Playground Series/tabular-playground-series-jul-2021.zip', './')"
      ],
      "outputs": [
        {
          "output_type": "execute_result",
          "data": {
            "application/vnd.google.colaboratory.intrinsic+json": {
              "type": "string"
            },
            "text/plain": [
              "'./tabular-playground-series-jul-2021.zip'"
            ]
          },
          "metadata": {
            "tags": []
          },
          "execution_count": 11
        }
      ],
      "metadata": {
        "colab": {
          "base_uri": "https://localhost:8080/",
          "height": 35
        },
        "id": "gqevGnzo3JN0",
        "outputId": "2029700a-9df3-4487-8d20-27db4e590c8f"
      }
    },
    {
      "cell_type": "code",
      "execution_count": null,
      "source": [
        "# Extracting the data\n",
        "\n",
        "with ZipFile('/content/tabular-playground-series-jul-2021.zip', 'r') as zf:\n",
        "    zf.extractall('./')"
      ],
      "outputs": [],
      "metadata": {
        "id": "PhL7G_9aVLpJ"
      }
    },
    {
      "cell_type": "code",
      "execution_count": null,
      "source": [
        "# Load the train data\n",
        "\n",
        "train = pd.read_csv('train.csv', parse_dates=['date_time'])\n",
        "train.head()"
      ],
      "outputs": [
        {
          "output_type": "execute_result",
          "data": {
            "text/html": [
              "<div>\n",
              "<style scoped>\n",
              "    .dataframe tbody tr th:only-of-type {\n",
              "        vertical-align: middle;\n",
              "    }\n",
              "\n",
              "    .dataframe tbody tr th {\n",
              "        vertical-align: top;\n",
              "    }\n",
              "\n",
              "    .dataframe thead th {\n",
              "        text-align: right;\n",
              "    }\n",
              "</style>\n",
              "<table border=\"1\" class=\"dataframe\">\n",
              "  <thead>\n",
              "    <tr style=\"text-align: right;\">\n",
              "      <th></th>\n",
              "      <th>date_time</th>\n",
              "      <th>deg_C</th>\n",
              "      <th>relative_humidity</th>\n",
              "      <th>absolute_humidity</th>\n",
              "      <th>sensor_1</th>\n",
              "      <th>sensor_2</th>\n",
              "      <th>sensor_3</th>\n",
              "      <th>sensor_4</th>\n",
              "      <th>sensor_5</th>\n",
              "      <th>target_carbon_monoxide</th>\n",
              "      <th>target_benzene</th>\n",
              "      <th>target_nitrogen_oxides</th>\n",
              "    </tr>\n",
              "  </thead>\n",
              "  <tbody>\n",
              "    <tr>\n",
              "      <th>0</th>\n",
              "      <td>2010-03-10 18:00:00</td>\n",
              "      <td>13.1</td>\n",
              "      <td>46.0</td>\n",
              "      <td>0.7578</td>\n",
              "      <td>1387.2</td>\n",
              "      <td>1087.8</td>\n",
              "      <td>1056.0</td>\n",
              "      <td>1742.8</td>\n",
              "      <td>1293.4</td>\n",
              "      <td>2.5</td>\n",
              "      <td>12.0</td>\n",
              "      <td>167.7</td>\n",
              "    </tr>\n",
              "    <tr>\n",
              "      <th>1</th>\n",
              "      <td>2010-03-10 19:00:00</td>\n",
              "      <td>13.2</td>\n",
              "      <td>45.3</td>\n",
              "      <td>0.7255</td>\n",
              "      <td>1279.1</td>\n",
              "      <td>888.2</td>\n",
              "      <td>1197.5</td>\n",
              "      <td>1449.9</td>\n",
              "      <td>1010.9</td>\n",
              "      <td>2.1</td>\n",
              "      <td>9.9</td>\n",
              "      <td>98.9</td>\n",
              "    </tr>\n",
              "    <tr>\n",
              "      <th>2</th>\n",
              "      <td>2010-03-10 20:00:00</td>\n",
              "      <td>12.6</td>\n",
              "      <td>56.2</td>\n",
              "      <td>0.7502</td>\n",
              "      <td>1331.9</td>\n",
              "      <td>929.6</td>\n",
              "      <td>1060.2</td>\n",
              "      <td>1586.1</td>\n",
              "      <td>1117.0</td>\n",
              "      <td>2.2</td>\n",
              "      <td>9.2</td>\n",
              "      <td>127.1</td>\n",
              "    </tr>\n",
              "    <tr>\n",
              "      <th>3</th>\n",
              "      <td>2010-03-10 21:00:00</td>\n",
              "      <td>11.0</td>\n",
              "      <td>62.4</td>\n",
              "      <td>0.7867</td>\n",
              "      <td>1321.0</td>\n",
              "      <td>929.0</td>\n",
              "      <td>1102.9</td>\n",
              "      <td>1536.5</td>\n",
              "      <td>1263.2</td>\n",
              "      <td>2.2</td>\n",
              "      <td>9.7</td>\n",
              "      <td>177.2</td>\n",
              "    </tr>\n",
              "    <tr>\n",
              "      <th>4</th>\n",
              "      <td>2010-03-10 22:00:00</td>\n",
              "      <td>11.9</td>\n",
              "      <td>59.0</td>\n",
              "      <td>0.7888</td>\n",
              "      <td>1272.0</td>\n",
              "      <td>852.7</td>\n",
              "      <td>1180.9</td>\n",
              "      <td>1415.5</td>\n",
              "      <td>1132.2</td>\n",
              "      <td>1.5</td>\n",
              "      <td>6.4</td>\n",
              "      <td>121.8</td>\n",
              "    </tr>\n",
              "  </tbody>\n",
              "</table>\n",
              "</div>"
            ],
            "text/plain": [
              "            date_time  deg_C  ...  target_benzene  target_nitrogen_oxides\n",
              "0 2010-03-10 18:00:00   13.1  ...            12.0                   167.7\n",
              "1 2010-03-10 19:00:00   13.2  ...             9.9                    98.9\n",
              "2 2010-03-10 20:00:00   12.6  ...             9.2                   127.1\n",
              "3 2010-03-10 21:00:00   11.0  ...             9.7                   177.2\n",
              "4 2010-03-10 22:00:00   11.9  ...             6.4                   121.8\n",
              "\n",
              "[5 rows x 12 columns]"
            ]
          },
          "metadata": {
            "tags": []
          },
          "execution_count": 13
        }
      ],
      "metadata": {
        "id": "B5Y78zxnVh9r",
        "colab": {
          "base_uri": "https://localhost:8080/",
          "height": 309
        },
        "outputId": "13f05621-738a-41bc-bba9-5746eb55cee1"
      }
    },
    {
      "cell_type": "code",
      "execution_count": null,
      "source": [
        "# Inspecting the data\n",
        "\n",
        "train.info()\n",
        "train.describe()"
      ],
      "outputs": [
        {
          "output_type": "stream",
          "name": "stdout",
          "text": [
            "<class 'pandas.core.frame.DataFrame'>\n",
            "RangeIndex: 7111 entries, 0 to 7110\n",
            "Data columns (total 12 columns):\n",
            " #   Column                  Non-Null Count  Dtype         \n",
            "---  ------                  --------------  -----         \n",
            " 0   date_time               7111 non-null   datetime64[ns]\n",
            " 1   deg_C                   7111 non-null   float64       \n",
            " 2   relative_humidity       7111 non-null   float64       \n",
            " 3   absolute_humidity       7111 non-null   float64       \n",
            " 4   sensor_1                7111 non-null   float64       \n",
            " 5   sensor_2                7111 non-null   float64       \n",
            " 6   sensor_3                7111 non-null   float64       \n",
            " 7   sensor_4                7111 non-null   float64       \n",
            " 8   sensor_5                7111 non-null   float64       \n",
            " 9   target_carbon_monoxide  7111 non-null   float64       \n",
            " 10  target_benzene          7111 non-null   float64       \n",
            " 11  target_nitrogen_oxides  7111 non-null   float64       \n",
            "dtypes: datetime64[ns](1), float64(11)\n",
            "memory usage: 666.8 KB\n"
          ]
        },
        {
          "output_type": "execute_result",
          "data": {
            "text/html": [
              "<div>\n",
              "<style scoped>\n",
              "    .dataframe tbody tr th:only-of-type {\n",
              "        vertical-align: middle;\n",
              "    }\n",
              "\n",
              "    .dataframe tbody tr th {\n",
              "        vertical-align: top;\n",
              "    }\n",
              "\n",
              "    .dataframe thead th {\n",
              "        text-align: right;\n",
              "    }\n",
              "</style>\n",
              "<table border=\"1\" class=\"dataframe\">\n",
              "  <thead>\n",
              "    <tr style=\"text-align: right;\">\n",
              "      <th></th>\n",
              "      <th>deg_C</th>\n",
              "      <th>relative_humidity</th>\n",
              "      <th>absolute_humidity</th>\n",
              "      <th>sensor_1</th>\n",
              "      <th>sensor_2</th>\n",
              "      <th>sensor_3</th>\n",
              "      <th>sensor_4</th>\n",
              "      <th>sensor_5</th>\n",
              "      <th>target_carbon_monoxide</th>\n",
              "      <th>target_benzene</th>\n",
              "      <th>target_nitrogen_oxides</th>\n",
              "    </tr>\n",
              "  </thead>\n",
              "  <tbody>\n",
              "    <tr>\n",
              "      <th>count</th>\n",
              "      <td>7111.000000</td>\n",
              "      <td>7111.000000</td>\n",
              "      <td>7111.000000</td>\n",
              "      <td>7111.000000</td>\n",
              "      <td>7111.000000</td>\n",
              "      <td>7111.000000</td>\n",
              "      <td>7111.000000</td>\n",
              "      <td>7111.000000</td>\n",
              "      <td>7111.000000</td>\n",
              "      <td>7111.000000</td>\n",
              "      <td>7111.000000</td>\n",
              "    </tr>\n",
              "    <tr>\n",
              "      <th>mean</th>\n",
              "      <td>20.878034</td>\n",
              "      <td>47.561004</td>\n",
              "      <td>1.110309</td>\n",
              "      <td>1091.572100</td>\n",
              "      <td>938.064970</td>\n",
              "      <td>883.903305</td>\n",
              "      <td>1513.238349</td>\n",
              "      <td>998.335565</td>\n",
              "      <td>2.086219</td>\n",
              "      <td>10.237083</td>\n",
              "      <td>204.066784</td>\n",
              "    </tr>\n",
              "    <tr>\n",
              "      <th>std</th>\n",
              "      <td>7.937917</td>\n",
              "      <td>17.398731</td>\n",
              "      <td>0.398950</td>\n",
              "      <td>218.537554</td>\n",
              "      <td>281.978988</td>\n",
              "      <td>310.456355</td>\n",
              "      <td>350.180310</td>\n",
              "      <td>381.537695</td>\n",
              "      <td>1.447109</td>\n",
              "      <td>7.694426</td>\n",
              "      <td>193.927723</td>\n",
              "    </tr>\n",
              "    <tr>\n",
              "      <th>min</th>\n",
              "      <td>1.300000</td>\n",
              "      <td>8.900000</td>\n",
              "      <td>0.198800</td>\n",
              "      <td>620.300000</td>\n",
              "      <td>364.000000</td>\n",
              "      <td>310.600000</td>\n",
              "      <td>552.900000</td>\n",
              "      <td>242.700000</td>\n",
              "      <td>0.100000</td>\n",
              "      <td>0.100000</td>\n",
              "      <td>1.900000</td>\n",
              "    </tr>\n",
              "    <tr>\n",
              "      <th>25%</th>\n",
              "      <td>14.900000</td>\n",
              "      <td>33.700000</td>\n",
              "      <td>0.855900</td>\n",
              "      <td>930.250000</td>\n",
              "      <td>734.900000</td>\n",
              "      <td>681.050000</td>\n",
              "      <td>1320.350000</td>\n",
              "      <td>722.850000</td>\n",
              "      <td>1.000000</td>\n",
              "      <td>4.500000</td>\n",
              "      <td>76.450000</td>\n",
              "    </tr>\n",
              "    <tr>\n",
              "      <th>50%</th>\n",
              "      <td>20.700000</td>\n",
              "      <td>47.300000</td>\n",
              "      <td>1.083500</td>\n",
              "      <td>1060.500000</td>\n",
              "      <td>914.200000</td>\n",
              "      <td>827.800000</td>\n",
              "      <td>1513.100000</td>\n",
              "      <td>928.700000</td>\n",
              "      <td>1.700000</td>\n",
              "      <td>8.500000</td>\n",
              "      <td>141.000000</td>\n",
              "    </tr>\n",
              "    <tr>\n",
              "      <th>75%</th>\n",
              "      <td>25.800000</td>\n",
              "      <td>60.800000</td>\n",
              "      <td>1.404150</td>\n",
              "      <td>1215.800000</td>\n",
              "      <td>1124.100000</td>\n",
              "      <td>1008.850000</td>\n",
              "      <td>1720.400000</td>\n",
              "      <td>1224.700000</td>\n",
              "      <td>2.800000</td>\n",
              "      <td>14.200000</td>\n",
              "      <td>260.000000</td>\n",
              "    </tr>\n",
              "    <tr>\n",
              "      <th>max</th>\n",
              "      <td>46.100000</td>\n",
              "      <td>90.800000</td>\n",
              "      <td>2.231000</td>\n",
              "      <td>2088.300000</td>\n",
              "      <td>2302.600000</td>\n",
              "      <td>2567.400000</td>\n",
              "      <td>2913.800000</td>\n",
              "      <td>2594.600000</td>\n",
              "      <td>12.500000</td>\n",
              "      <td>63.700000</td>\n",
              "      <td>1472.300000</td>\n",
              "    </tr>\n",
              "  </tbody>\n",
              "</table>\n",
              "</div>"
            ],
            "text/plain": [
              "             deg_C  relative_humidity  ...  target_benzene  target_nitrogen_oxides\n",
              "count  7111.000000        7111.000000  ...     7111.000000             7111.000000\n",
              "mean     20.878034          47.561004  ...       10.237083              204.066784\n",
              "std       7.937917          17.398731  ...        7.694426              193.927723\n",
              "min       1.300000           8.900000  ...        0.100000                1.900000\n",
              "25%      14.900000          33.700000  ...        4.500000               76.450000\n",
              "50%      20.700000          47.300000  ...        8.500000              141.000000\n",
              "75%      25.800000          60.800000  ...       14.200000              260.000000\n",
              "max      46.100000          90.800000  ...       63.700000             1472.300000\n",
              "\n",
              "[8 rows x 11 columns]"
            ]
          },
          "metadata": {
            "tags": []
          },
          "execution_count": 14
        }
      ],
      "metadata": {
        "colab": {
          "base_uri": "https://localhost:8080/",
          "height": 640
        },
        "id": "VXlQyHNu5PjB",
        "outputId": "a7352533-d50f-4735-b71c-e1e0f6345e52"
      }
    },
    {
      "cell_type": "code",
      "execution_count": null,
      "source": [
        "# Correlation matrix\n",
        "\n",
        "sns.heatmap(train.corr(), annot=True, vmin=-1, vmax=1)"
      ],
      "outputs": [
        {
          "output_type": "execute_result",
          "data": {
            "text/plain": [
              "<matplotlib.axes._subplots.AxesSubplot at 0x7f50a51b27d0>"
            ]
          },
          "metadata": {
            "tags": []
          },
          "execution_count": 15
        },
        {
          "output_type": "display_data",
          "data": {
            "image/png": "[encoded data removed]",
            "text/plain": [
              "<Figure size 864x504 with 2 Axes>"
            ]
          },
          "metadata": {
            "tags": [],
            "needs_background": "light"
          }
        }
      ],
      "metadata": {
        "colab": {
          "base_uri": "https://localhost:8080/",
          "height": 563
        },
        "id": "jo1msdMy51gi",
        "outputId": "c7b598c8-e2da-4afa-df9b-e47df8884625"
      }
    },
    {
      "cell_type": "code",
      "execution_count": null,
      "source": [
        "# Separating out features and labels\n",
        "\n",
        "X = train.drop(['date_time', 'target_carbon_monoxide', 'target_benzene', 'target_nitrogen_oxides'], axis=1)\n",
        "y = train[['target_carbon_monoxide', 'target_benzene', 'target_nitrogen_oxides']]"
      ],
      "outputs": [],
      "metadata": {
        "id": "XWGTWk5RrOan"
      }
    },
    {
      "cell_type": "code",
      "execution_count": null,
      "source": [
        "# Train and Test split\n",
        "\n",
        "X_train, X_valid, y_train, y_valid = train_test_split(X, y, train_size=0.7, random_state=42)"
      ],
      "outputs": [],
      "metadata": {
        "id": "VKN8zyvZ31oL"
      }
    },
    {
      "cell_type": "code",
      "execution_count": null,
      "source": [
        "# Optuna Custom classes\n",
        "\n",
        "class Optimize(BaseEstimator, TransformerMixin):\n",
        "    def __init__(self, objective, n_trials=100, maximize=True) -> None:\n",
        "        self.objective = objective\n",
        "        self.direction = maximize\n",
        "        self.n_trials = n_trials\n",
        "\n",
        "    def __str__(self) -> str:\n",
        "        return f\"Optimize(objective={self.objective}, maximize={self.direction})\"\n",
        "\n",
        "    def fit_transform(self, X_train, y_train):\n",
        "        self.fit(self.X_train, self.y_train)\n",
        "\n",
        "    def fit(self, X_train, y_train):\n",
        "        self.X_train = X_train\n",
        "        self.y_train = y_train\n",
        "\n",
        "        if self.direction:\n",
        "            self.study = optuna.create_study(direction='maximize')\n",
        "        else:\n",
        "            self.study = optuna.create_study(direction='minimize')\n",
        "        self.study.optimize(self.objective, n_trials=self.n_trials)\n",
        "\n",
        "        self.best_trail = self.study.best_trial\n",
        "\n",
        "    def predict(self, X, save_model=True):\n",
        "        model = eval(self.best_trail.params['clf']+'()')\n",
        "        model_params = {k: v for k, v in self.best_trail.params.items() if k != 'clf'}\n",
        "        model.set_params(**model_params)\n",
        "        model.fit(self.X_train, self.y_train)\n",
        "\n",
        "        if save_model:\n",
        "            fname = 'saved_model.pkl'\n",
        "            pickle.dump(model, open(fname, 'wb'))\n",
        "\n",
        "        return model.predict(X)\n",
        "\n",
        "class Objective():\n",
        "    def __init__(self, X_train, y_train, X_valid, y_valid) -> None:\n",
        "        self.X_train = X_train\n",
        "        self.y_train = y_train\n",
        "        self.X_valid = X_valid\n",
        "        self.y_valid = y_valid\n",
        "\n",
        "    def __call__(self, trail):\n",
        "        clf = trail.suggest_categorical('clf', ['KNeighborsRegressor', 'DecisionTreeRegressor', 'Lasso', 'LinearRegression', 'RandomForestRegressor', 'Ridge', 'KNeighborsRegressor'])\n",
        "\n",
        "        if clf == 'DecisionTreeRegressor':\n",
        "            criterion = trail.suggest_categorical('criterion', ['mse', 'mae'])\n",
        "            max_depth = trail.suggest_int('max_depth', 4, 14, step=2)\n",
        "            max_features = trail.suggest_categorical('max_features', ['auto', 'sqrt', 'log2', None])\n",
        "\n",
        "            model = DecisionTreeRegressor(criterion=criterion, max_depth=max_depth, max_features=max_features)\n",
        "        elif clf == 'RandomForestRegressor':\n",
        "            n_estimators = trail.suggest_int('n_estimators', 100, 2000, step=50)\n",
        "            criterion = trail.suggest_categorical('criterion', ['mse', 'mae'])\n",
        "            max_depth = trail.suggest_int('max_depth', 4, 14, step=2)\n",
        "            max_features = trail.suggest_categorical('max_features', ['auto', 'sqrt', 'log2', None])\n",
        "\n",
        "            model = RandomForestRegressor(n_estimators=n_estimators, criterion=criterion, max_depth=max_depth, max_features=max_features)\n",
        "        elif clf == 'Lasso':\n",
        "            alpha = trail.suggest_loguniform('alpha', 1e-10, 1)\n",
        "\n",
        "            model = Lasso(alpha=alpha)\n",
        "        elif clf == 'LinearRegression':\n",
        "            model = LinearRegression()\n",
        "        elif clf == 'KNeighborsRegressor':\n",
        "            n_neighbors = trail.suggest_int('n_neighbors', 2, 30)\n",
        "            weights = trail.suggest_categorical('weights', ['uniform', 'distance'])\n",
        "            algorithm = trail.suggest_categorical('algorithm', ['auto', 'ball_tree', 'kd_tree', 'brute'])\n",
        "            leaf_size = trail.suggest_int('leaf_size', 10, 50, step=5)\n",
        "            p = trail.suggest_int('p', 3, 30)\n",
        "\n",
        "            model = KNeighborsRegressor(n_neighbors=n_neighbors, weights=weights, algorithm=algorithm, leaf_size=leaf_size, p=p)\n",
        "        elif clf == 'Ridge':\n",
        "            alpha = trail.suggest_loguniform('alpha', 1e-10, 1)\n",
        "\n",
        "            model = Ridge(alpha=alpha)\n",
        "        # elif clf == 'SVR':\n",
        "        #     tol = trail.suggest_loguniform('tol', 1e-6, 1)\n",
        "        #     C = trail.suggest_loguniform('C', 1e-10, 1e2)\n",
        "        #     kernel = trail.suggest_categorical('kernel', ['linear', 'poly', 'rbf', 'sigmoid'])\n",
        "        #     gamma = trail.suggest_categorical('gamma', ['scale', 'auto'])\n",
        "        #     degree = trail.suggest_int('degree', 3, 15)\n",
        "\n",
        "        #     model = SVR(kernel=kernel, gamma=gamma, degree=degree, tol=tol, C=C)\n",
        "        # elif clf == 'XGBRegressor':\n",
        "            # n_estimators = trail.suggest_int('n_estimators', 100, 2000, step=50)\n",
        "            # learning_rate = trail.suggest_loguniform('learning_rate', 1e-10, 1)\n",
        "            # max_depth = trail.suggest_int('max_depth', 4, 14, step=2)\n",
        "            # reg_alpha = trail.suggest_loguniform('reg_alpha', 1e-10, 1)\n",
        "# \n",
        "            # model = XGBRegressor(n_estimators=n_estimators, max_depth=max_depth, learning_rate=learning_rate, reg_alpha=reg_alpha)\n",
        "        # elif clf == 'LGBMRegressor':\n",
        "        #     boosting_type = trail.suggest_categorical('boosting_type', ['gbdt', 'dart', 'goss', 'rf'])\n",
        "        #     num_leaves = trail.suggest_int('num_leaves', 10, 60)\n",
        "        #     n_estimators = trail.suggest_int('n_estimators', 100, 2000, step=50)\n",
        "        #     learning_rate = trail.suggest_loguniform('learning_rate', 1e-10, 1)\n",
        "        #     max_depth = trail.suggest_int('max_depth', 4, 14, step=2)\n",
        "        #     reg_alpha = trail.suggest_loguniform('reg_alpha', 1e-10, 1)\n",
        "\n",
        "        #     model = LGBMRegressor(boosting_type=boosting_type, num_leaves=num_leaves, n_estimators=n_estimators, max_depth=max_depth, learning_rate=learning_rate, reg_alpha=reg_alpha)\n",
        "        # elif clf == 'CatBoostRegressor':\n",
        "        #     iterations = trail.suggest_int('iterations', 100, 200, step=5)\n",
        "        #     loss_function = trail.suggest_categorical('loss_function', ['RMSE', 'MAE', 'MAPE', 'Poisson'])\n",
        "        #     learning_rate = trail.suggest_loguniform('learning_rate', 1e-10, 1)\n",
        "        #     depth = trail.suggest_int('depth', 4, 14, step=2)\n",
        "\n",
        "        #     model = CatBoostRegressor(loss_function=loss_function, iterations=iterations, depth=depth, learning_rate=learning_rate)\n",
        "\n",
        "        model.fit(self.X_train, self.y_train)\n",
        "        valid_pred = model.predict(self.X_valid)\n",
        "\n",
        "        return np.sqrt(mean_squared_error(self.y_valid, valid_pred))"
      ],
      "outputs": [],
      "metadata": {
        "id": "aXzw_KGa3fLs"
      }
    },
    {
      "cell_type": "markdown",
      "source": [
        "## ML Part"
      ],
      "metadata": {
        "id": "k6V5hy3tnVXm"
      }
    },
    {
      "cell_type": "code",
      "execution_count": null,
      "source": [
        "# Fitting the model\n",
        "\n",
        "obj = Objective(X_train, y_train, X_valid, y_valid)\n",
        "pipe = Pipeline([\n",
        "    ('optim', Optimize(obj, maximize=False)),\n",
        "])\n",
        "\n",
        "pipe.fit(X_train, y_train)"
      ],
      "outputs": [
        {
          "output_type": "stream",
          "name": "stderr",
          "text": [
            "\u001b[32m[I 2021-07-21 17:11:22,490]\u001b[0m A new study created in memory with name: no-name-b0819dc3-56a7-47ae-9ff4-2212c085726d\u001b[0m\n",
            "\u001b[32m[I 2021-07-21 17:11:22,501]\u001b[0m Trial 0 finished with value: 68.33586531112435 and parameters: {'clf': 'LinearRegression'}. Best is trial 0 with value: 68.33586531112435.\u001b[0m\n",
            "\u001b[32m[I 2021-07-21 17:11:23,317]\u001b[0m Trial 1 finished with value: 56.89423130061421 and parameters: {'clf': 'KNeighborsRegressor', 'n_neighbors': 29, 'weights': 'distance', 'algorithm': 'auto', 'leaf_size': 40, 'p': 11}. Best is trial 1 with value: 56.89423130061421.\u001b[0m\n",
            "\u001b[32m[I 2021-07-21 17:11:26,387]\u001b[0m Trial 2 finished with value: 59.8855034732263 and parameters: {'clf': 'DecisionTreeRegressor', 'criterion': 'mae', 'max_depth': 8, 'max_features': 'auto'}. Best is trial 1 with value: 56.89423130061421.\u001b[0m\n",
            "\u001b[32m[I 2021-07-21 17:11:33,503]\u001b[0m Trial 3 finished with value: 56.101056775242206 and parameters: {'clf': 'KNeighborsRegressor', 'n_neighbors': 24, 'weights': 'distance', 'algorithm': 'brute', 'leaf_size': 15, 'p': 15}. Best is trial 3 with value: 56.101056775242206.\u001b[0m\n",
            "\u001b[32m[I 2021-07-21 17:11:39,942]\u001b[0m Trial 4 finished with value: 59.756685226120055 and parameters: {'clf': 'RandomForestRegressor', 'n_estimators': 500, 'criterion': 'mse', 'max_depth': 4, 'max_features': None}. Best is trial 3 with value: 56.101056775242206.\u001b[0m\n",
            "\u001b[32m[I 2021-07-21 17:11:42,769]\u001b[0m Trial 5 finished with value: 56.34059894582881 and parameters: {'clf': 'KNeighborsRegressor', 'n_neighbors': 25, 'weights': 'distance', 'algorithm': 'ball_tree', 'leaf_size': 10, 'p': 22}. Best is trial 3 with value: 56.101056775242206.\u001b[0m\n",
            "\u001b[32m[I 2021-07-21 17:11:43,169]\u001b[0m Trial 6 finished with value: 56.196929390260195 and parameters: {'clf': 'KNeighborsRegressor', 'n_neighbors': 15, 'weights': 'uniform', 'algorithm': 'kd_tree', 'leaf_size': 10, 'p': 16}. Best is trial 3 with value: 56.101056775242206.\u001b[0m\n",
            "\u001b[32m[I 2021-07-21 17:11:43,641]\u001b[0m Trial 7 finished with value: 57.592631643249305 and parameters: {'clf': 'KNeighborsRegressor', 'n_neighbors': 24, 'weights': 'uniform', 'algorithm': 'auto', 'leaf_size': 15, 'p': 18}. Best is trial 3 with value: 56.101056775242206.\u001b[0m\n",
            "\u001b[32m[I 2021-07-21 17:11:43,653]\u001b[0m Trial 8 finished with value: 68.33586531112435 and parameters: {'clf': 'LinearRegression'}. Best is trial 3 with value: 56.101056775242206.\u001b[0m\n",
            "\u001b[32m[I 2021-07-21 17:11:43,669]\u001b[0m Trial 9 finished with value: 68.33586531323365 and parameters: {'clf': 'Ridge', 'alpha': 0.0016940375717874514}. Best is trial 3 with value: 56.101056775242206.\u001b[0m\n",
            "\u001b[32m[I 2021-07-21 17:11:51,091]\u001b[0m Trial 10 finished with value: 53.06799644824605 and parameters: {'clf': 'KNeighborsRegressor', 'n_neighbors': 6, 'weights': 'distance', 'algorithm': 'brute', 'leaf_size': 25, 'p': 4}. Best is trial 10 with value: 53.06799644824605.\u001b[0m\n",
            "\u001b[32m[I 2021-07-21 17:11:51,159]\u001b[0m Trial 11 finished with value: 68.33586531112546 and parameters: {'clf': 'Lasso', 'alpha': 1.3072471681890749e-10}. Best is trial 10 with value: 53.06799644824605.\u001b[0m\n",
            "\u001b[32m[I 2021-07-21 17:11:58,276]\u001b[0m Trial 12 finished with value: 58.08502924980105 and parameters: {'clf': 'KNeighborsRegressor', 'n_neighbors': 2, 'weights': 'distance', 'algorithm': 'brute', 'leaf_size': 25, 'p': 5}. Best is trial 10 with value: 53.06799644824605.\u001b[0m\n",
            "\u001b[32m[I 2021-07-21 17:12:06,543]\u001b[0m Trial 13 finished with value: 55.007776632643754 and parameters: {'clf': 'KNeighborsRegressor', 'n_neighbors': 4, 'weights': 'distance', 'algorithm': 'brute', 'leaf_size': 25, 'p': 3}. Best is trial 10 with value: 53.06799644824605.\u001b[0m\n",
            "\u001b[32m[I 2021-07-21 17:12:14,765]\u001b[0m Trial 14 finished with value: 56.90472630264077 and parameters: {'clf': 'KNeighborsRegressor', 'n_neighbors': 2, 'weights': 'distance', 'algorithm': 'brute', 'leaf_size': 30, 'p': 3}. Best is trial 10 with value: 53.06799644824605.\u001b[0m\n",
            "\u001b[32m[I 2021-07-21 17:12:21,873]\u001b[0m Trial 15 finished with value: 54.750744191365044 and parameters: {'clf': 'KNeighborsRegressor', 'n_neighbors': 9, 'weights': 'distance', 'algorithm': 'brute', 'leaf_size': 30, 'p': 30}. Best is trial 10 with value: 53.06799644824605.\u001b[0m\n",
            "\u001b[32m[I 2021-07-21 17:12:28,950]\u001b[0m Trial 16 finished with value: 54.46903626955358 and parameters: {'clf': 'KNeighborsRegressor', 'n_neighbors': 10, 'weights': 'distance', 'algorithm': 'brute', 'leaf_size': 35, 'p': 28}. Best is trial 10 with value: 53.06799644824605.\u001b[0m\n",
            "\u001b[32m[I 2021-07-21 17:12:29,518]\u001b[0m Trial 17 finished with value: 54.68091050607804 and parameters: {'clf': 'KNeighborsRegressor', 'n_neighbors': 11, 'weights': 'distance', 'algorithm': 'kd_tree', 'leaf_size': 50, 'p': 30}. Best is trial 10 with value: 53.06799644824605.\u001b[0m\n",
            "\u001b[32m[I 2021-07-21 17:12:33,306]\u001b[0m Trial 18 finished with value: 54.44691637529379 and parameters: {'clf': 'KNeighborsRegressor', 'n_neighbors': 8, 'weights': 'distance', 'algorithm': 'ball_tree', 'leaf_size': 40, 'p': 26}. Best is trial 10 with value: 53.06799644824605.\u001b[0m\n",
            "\u001b[32m[I 2021-07-21 17:12:37,019]\u001b[0m Trial 19 finished with value: 55.70750862774667 and parameters: {'clf': 'KNeighborsRegressor', 'n_neighbors': 7, 'weights': 'uniform', 'algorithm': 'ball_tree', 'leaf_size': 45, 'p': 25}. Best is trial 10 with value: 53.06799644824605.\u001b[0m\n",
            "\u001b[32m[I 2021-07-21 17:12:40,814]\u001b[0m Trial 20 finished with value: 54.62830450946061 and parameters: {'clf': 'KNeighborsRegressor', 'n_neighbors': 15, 'weights': 'distance', 'algorithm': 'ball_tree', 'leaf_size': 40, 'p': 8}. Best is trial 10 with value: 53.06799644824605.\u001b[0m\n",
            "\u001b[32m[I 2021-07-21 17:12:43,872]\u001b[0m Trial 21 finished with value: 54.68967790910081 and parameters: {'clf': 'KNeighborsRegressor', 'n_neighbors': 11, 'weights': 'distance', 'algorithm': 'ball_tree', 'leaf_size': 35, 'p': 26}. Best is trial 10 with value: 53.06799644824605.\u001b[0m\n",
            "\u001b[32m[I 2021-07-21 17:12:51,104]\u001b[0m Trial 22 finished with value: 53.98671602794048 and parameters: {'clf': 'KNeighborsRegressor', 'n_neighbors': 6, 'weights': 'distance', 'algorithm': 'brute', 'leaf_size': 35, 'p': 26}. Best is trial 10 with value: 53.06799644824605.\u001b[0m\n",
            "\u001b[32m[I 2021-07-21 17:12:58,373]\u001b[0m Trial 23 finished with value: 53.99572661508885 and parameters: {'clf': 'KNeighborsRegressor', 'n_neighbors': 6, 'weights': 'distance', 'algorithm': 'brute', 'leaf_size': 20, 'p': 22}. Best is trial 10 with value: 53.06799644824605.\u001b[0m\n",
            "\u001b[32m[I 2021-07-21 17:13:05,549]\u001b[0m Trial 24 finished with value: 53.999769602452275 and parameters: {'clf': 'KNeighborsRegressor', 'n_neighbors': 6, 'weights': 'distance', 'algorithm': 'brute', 'leaf_size': 20, 'p': 21}. Best is trial 10 with value: 53.06799644824605.\u001b[0m\n",
            "\u001b[32m[I 2021-07-21 17:13:12,770]\u001b[0m Trial 25 finished with value: 55.02891573321621 and parameters: {'clf': 'KNeighborsRegressor', 'n_neighbors': 4, 'weights': 'distance', 'algorithm': 'brute', 'leaf_size': 25, 'p': 22}. Best is trial 10 with value: 53.06799644824605.\u001b[0m\n",
            "\u001b[32m[I 2021-07-21 17:13:19,887]\u001b[0m Trial 26 finished with value: 54.775726600323985 and parameters: {'clf': 'KNeighborsRegressor', 'n_neighbors': 13, 'weights': 'distance', 'algorithm': 'brute', 'leaf_size': 20, 'p': 19}. Best is trial 10 with value: 53.06799644824605.\u001b[0m\n",
            "\u001b[32m[I 2021-07-21 17:13:27,025]\u001b[0m Trial 27 finished with value: 55.321076275689755 and parameters: {'clf': 'KNeighborsRegressor', 'n_neighbors': 19, 'weights': 'distance', 'algorithm': 'brute', 'leaf_size': 20, 'p': 12}. Best is trial 10 with value: 53.06799644824605.\u001b[0m\n",
            "\u001b[32m[I 2021-07-21 17:13:34,100]\u001b[0m Trial 28 finished with value: 56.01124445004091 and parameters: {'clf': 'KNeighborsRegressor', 'n_neighbors': 4, 'weights': 'uniform', 'algorithm': 'brute', 'leaf_size': 35, 'p': 24}. Best is trial 10 with value: 53.06799644824605.\u001b[0m\n",
            "\u001b[32m[I 2021-07-21 17:13:41,160]\u001b[0m Trial 29 finished with value: 55.27907736520212 and parameters: {'clf': 'KNeighborsRegressor', 'n_neighbors': 19, 'weights': 'distance', 'algorithm': 'brute', 'leaf_size': 25, 'p': 20}. Best is trial 10 with value: 53.06799644824605.\u001b[0m\n",
            "\u001b[32m[I 2021-07-21 17:13:41,506]\u001b[0m Trial 30 finished with value: 53.9814114544898 and parameters: {'clf': 'KNeighborsRegressor', 'n_neighbors': 6, 'weights': 'distance', 'algorithm': 'auto', 'leaf_size': 30, 'p': 28}. Best is trial 10 with value: 53.06799644824605.\u001b[0m\n",
            "\u001b[32m[I 2021-07-21 17:13:41,857]\u001b[0m Trial 31 finished with value: 53.9814114544898 and parameters: {'clf': 'KNeighborsRegressor', 'n_neighbors': 6, 'weights': 'distance', 'algorithm': 'auto', 'leaf_size': 30, 'p': 28}. Best is trial 10 with value: 53.06799644824605.\u001b[0m\n",
            "\u001b[32m[I 2021-07-21 17:13:42,112]\u001b[0m Trial 32 finished with value: 58.61157687056633 and parameters: {'clf': 'KNeighborsRegressor', 'n_neighbors': 2, 'weights': 'distance', 'algorithm': 'auto', 'leaf_size': 30, 'p': 28}. Best is trial 10 with value: 53.06799644824605.\u001b[0m\n",
            "\u001b[32m[I 2021-07-21 17:13:42,467]\u001b[0m Trial 33 finished with value: 53.99986607054409 and parameters: {'clf': 'KNeighborsRegressor', 'n_neighbors': 6, 'weights': 'distance', 'algorithm': 'auto', 'leaf_size': 35, 'p': 29}. Best is trial 10 with value: 53.06799644824605.\u001b[0m\n",
            "\u001b[32m[I 2021-07-21 17:13:42,778]\u001b[0m Trial 34 finished with value: 55.04360112352269 and parameters: {'clf': 'KNeighborsRegressor', 'n_neighbors': 4, 'weights': 'distance', 'algorithm': 'auto', 'leaf_size': 30, 'p': 27}. Best is trial 10 with value: 53.06799644824605.\u001b[0m\n",
            "\u001b[32m[I 2021-07-21 17:13:43,161]\u001b[0m Trial 35 finished with value: 54.42846833323254 and parameters: {'clf': 'KNeighborsRegressor', 'n_neighbors': 8, 'weights': 'distance', 'algorithm': 'auto', 'leaf_size': 35, 'p': 30}. Best is trial 10 with value: 53.06799644824605.\u001b[0m\n",
            "\u001b[32m[I 2021-07-21 17:13:43,600]\u001b[0m Trial 36 finished with value: 54.88954511617783 and parameters: {'clf': 'KNeighborsRegressor', 'n_neighbors': 12, 'weights': 'distance', 'algorithm': 'auto', 'leaf_size': 30, 'p': 24}. Best is trial 10 with value: 53.06799644824605.\u001b[0m\n",
            "\u001b[32m[I 2021-07-21 17:13:44,063]\u001b[0m Trial 37 finished with value: 54.006293007855625 and parameters: {'clf': 'KNeighborsRegressor', 'n_neighbors': 5, 'weights': 'distance', 'algorithm': 'auto', 'leaf_size': 40, 'p': 14}. Best is trial 10 with value: 53.06799644824605.\u001b[0m\n",
            "\u001b[32m[I 2021-07-21 17:13:44,467]\u001b[0m Trial 38 finished with value: 54.71941287156618 and parameters: {'clf': 'KNeighborsRegressor', 'n_neighbors': 9, 'weights': 'distance', 'algorithm': 'auto', 'leaf_size': 25, 'p': 24}. Best is trial 10 with value: 53.06799644824605.\u001b[0m\n",
            "\u001b[32m[I 2021-07-21 17:13:44,843]\u001b[0m Trial 39 finished with value: 58.81684958740784 and parameters: {'clf': 'KNeighborsRegressor', 'n_neighbors': 2, 'weights': 'distance', 'algorithm': 'kd_tree', 'leaf_size': 45, 'p': 11}. Best is trial 10 with value: 53.06799644824605.\u001b[0m\n",
            "\u001b[32m[I 2021-07-21 17:13:45,317]\u001b[0m Trial 40 finished with value: 55.17162016224302 and parameters: {'clf': 'KNeighborsRegressor', 'n_neighbors': 13, 'weights': 'uniform', 'algorithm': 'auto', 'leaf_size': 30, 'p': 8}. Best is trial 10 with value: 53.06799644824605.\u001b[0m\n",
            "\u001b[32m[I 2021-07-21 17:13:52,497]\u001b[0m Trial 41 finished with value: 54.37218306444078 and parameters: {'clf': 'KNeighborsRegressor', 'n_neighbors': 7, 'weights': 'distance', 'algorithm': 'brute', 'leaf_size': 15, 'p': 23}. Best is trial 10 with value: 53.06799644824605.\u001b[0m\n",
            "\u001b[32m[I 2021-07-21 17:13:52,863]\u001b[0m Trial 42 finished with value: 53.97480267985749 and parameters: {'clf': 'KNeighborsRegressor', 'n_neighbors': 6, 'weights': 'distance', 'algorithm': 'auto', 'leaf_size': 20, 'p': 27}. Best is trial 10 with value: 53.06799644824605.\u001b[0m\n",
            "\u001b[32m[I 2021-07-21 17:13:53,168]\u001b[0m Trial 43 finished with value: 54.434375736102 and parameters: {'clf': 'KNeighborsRegressor', 'n_neighbors': 8, 'weights': 'distance', 'algorithm': 'auto', 'leaf_size': 15, 'p': 27}. Best is trial 10 with value: 53.06799644824605.\u001b[0m\n",
            "\u001b[32m[I 2021-07-21 17:13:53,456]\u001b[0m Trial 44 finished with value: 56.41790077571563 and parameters: {'clf': 'KNeighborsRegressor', 'n_neighbors': 3, 'weights': 'distance', 'algorithm': 'auto', 'leaf_size': 25, 'p': 28}. Best is trial 10 with value: 53.06799644824605.\u001b[0m\n",
            "\u001b[32m[I 2021-07-21 17:13:54,107]\u001b[0m Trial 45 finished with value: 57.285542663339534 and parameters: {'clf': 'KNeighborsRegressor', 'n_neighbors': 30, 'weights': 'distance', 'algorithm': 'auto', 'leaf_size': 20, 'p': 30}. Best is trial 10 with value: 53.06799644824605.\u001b[0m\n",
            "\u001b[32m[I 2021-07-21 17:13:54,445]\u001b[0m Trial 46 finished with value: 53.95529294258145 and parameters: {'clf': 'KNeighborsRegressor', 'n_neighbors': 5, 'weights': 'distance', 'algorithm': 'auto', 'leaf_size': 25, 'p': 17}. Best is trial 10 with value: 53.06799644824605.\u001b[0m\n",
            "\u001b[32m[I 2021-07-21 17:13:54,797]\u001b[0m Trial 47 finished with value: 54.20646846580115 and parameters: {'clf': 'KNeighborsRegressor', 'n_neighbors': 5, 'weights': 'distance', 'algorithm': 'auto', 'leaf_size': 25, 'p': 7}. Best is trial 10 with value: 53.06799644824605.\u001b[0m\n",
            "\u001b[32m[I 2021-07-21 17:13:55,137]\u001b[0m Trial 48 finished with value: 55.77423801676839 and parameters: {'clf': 'KNeighborsRegressor', 'n_neighbors': 10, 'weights': 'uniform', 'algorithm': 'auto', 'leaf_size': 10, 'p': 17}. Best is trial 10 with value: 53.06799644824605.\u001b[0m\n",
            "\u001b[32m[I 2021-07-21 17:13:55,425]\u001b[0m Trial 49 finished with value: 55.8321975340777 and parameters: {'clf': 'KNeighborsRegressor', 'n_neighbors': 3, 'weights': 'distance', 'algorithm': 'auto', 'leaf_size': 25, 'p': 13}. Best is trial 10 with value: 53.06799644824605.\u001b[0m\n",
            "\u001b[32m[I 2021-07-21 17:13:55,744]\u001b[0m Trial 50 finished with value: 54.652707271009 and parameters: {'clf': 'KNeighborsRegressor', 'n_neighbors': 9, 'weights': 'distance', 'algorithm': 'kd_tree', 'leaf_size': 15, 'p': 15}. Best is trial 10 with value: 53.06799644824605.\u001b[0m\n",
            "\u001b[32m[I 2021-07-21 17:13:56,129]\u001b[0m Trial 51 finished with value: 54.38190368023632 and parameters: {'clf': 'KNeighborsRegressor', 'n_neighbors': 7, 'weights': 'distance', 'algorithm': 'auto', 'leaf_size': 30, 'p': 26}. Best is trial 10 with value: 53.06799644824605.\u001b[0m\n",
            "\u001b[32m[I 2021-07-21 17:13:56,466]\u001b[0m Trial 52 finished with value: 54.235250214191964 and parameters: {'clf': 'KNeighborsRegressor', 'n_neighbors': 5, 'weights': 'distance', 'algorithm': 'auto', 'leaf_size': 35, 'p': 29}. Best is trial 10 with value: 53.06799644824605.\u001b[0m\n",
            "\u001b[32m[I 2021-07-21 17:13:56,840]\u001b[0m Trial 53 finished with value: 53.1840001449157 and parameters: {'clf': 'KNeighborsRegressor', 'n_neighbors': 6, 'weights': 'distance', 'algorithm': 'auto', 'leaf_size': 30, 'p': 5}. Best is trial 10 with value: 53.06799644824605.\u001b[0m\n",
            "\u001b[32m[I 2021-07-21 17:13:57,476]\u001b[0m Trial 54 finished with value: 56.25064083361544 and parameters: {'clf': 'KNeighborsRegressor', 'n_neighbors': 26, 'weights': 'distance', 'algorithm': 'auto', 'leaf_size': 25, 'p': 5}. Best is trial 10 with value: 53.06799644824605.\u001b[0m\n",
            "\u001b[32m[I 2021-07-21 17:13:57,782]\u001b[0m Trial 55 finished with value: 55.69499243705116 and parameters: {'clf': 'KNeighborsRegressor', 'n_neighbors': 3, 'weights': 'distance', 'algorithm': 'auto', 'leaf_size': 30, 'p': 5}. Best is trial 10 with value: 53.06799644824605.\u001b[0m\n",
            "\u001b[32m[I 2021-07-21 17:13:58,318]\u001b[0m Trial 56 finished with value: 53.757937858384324 and parameters: {'clf': 'KNeighborsRegressor', 'n_neighbors': 7, 'weights': 'distance', 'algorithm': 'auto', 'leaf_size': 20, 'p': 3}. Best is trial 10 with value: 53.06799644824605.\u001b[0m\n",
            "\u001b[32m[I 2021-07-21 17:14:21,337]\u001b[0m Trial 57 finished with value: 45.94579410501049 and parameters: {'clf': 'RandomForestRegressor', 'n_estimators': 2000, 'criterion': 'mse', 'max_depth': 14, 'max_features': 'sqrt'}. Best is trial 57 with value: 45.94579410501049.\u001b[0m\n",
            "\u001b[32m[I 2021-07-21 17:14:43,599]\u001b[0m Trial 58 finished with value: 45.85232367444654 and parameters: {'clf': 'RandomForestRegressor', 'n_estimators': 2000, 'criterion': 'mse', 'max_depth': 14, 'max_features': 'sqrt'}. Best is trial 58 with value: 45.85232367444654.\u001b[0m\n",
            "\u001b[32m[I 2021-07-21 17:15:06,017]\u001b[0m Trial 59 finished with value: 45.87424974341075 and parameters: {'clf': 'RandomForestRegressor', 'n_estimators': 2000, 'criterion': 'mse', 'max_depth': 14, 'max_features': 'sqrt'}. Best is trial 58 with value: 45.85232367444654.\u001b[0m\n",
            "\u001b[32m[I 2021-07-21 17:15:28,254]\u001b[0m Trial 60 finished with value: 45.939238196977406 and parameters: {'clf': 'RandomForestRegressor', 'n_estimators': 2000, 'criterion': 'mse', 'max_depth': 14, 'max_features': 'sqrt'}. Best is trial 58 with value: 45.85232367444654.\u001b[0m\n",
            "\u001b[32m[I 2021-07-21 17:15:50,455]\u001b[0m Trial 61 finished with value: 45.87714734160978 and parameters: {'clf': 'RandomForestRegressor', 'n_estimators': 2000, 'criterion': 'mse', 'max_depth': 14, 'max_features': 'sqrt'}. Best is trial 58 with value: 45.85232367444654.\u001b[0m\n",
            "\u001b[32m[I 2021-07-21 17:16:12,802]\u001b[0m Trial 62 finished with value: 45.87676927171194 and parameters: {'clf': 'RandomForestRegressor', 'n_estimators': 2000, 'criterion': 'mse', 'max_depth': 14, 'max_features': 'sqrt'}. Best is trial 58 with value: 45.85232367444654.\u001b[0m\n",
            "\u001b[32m[I 2021-07-21 17:16:35,220]\u001b[0m Trial 63 finished with value: 45.891646808697885 and parameters: {'clf': 'RandomForestRegressor', 'n_estimators': 2000, 'criterion': 'mse', 'max_depth': 14, 'max_features': 'sqrt'}. Best is trial 58 with value: 45.85232367444654.\u001b[0m\n",
            "\u001b[32m[I 2021-07-21 17:16:58,377]\u001b[0m Trial 64 finished with value: 45.75532006799188 and parameters: {'clf': 'RandomForestRegressor', 'n_estimators': 2000, 'criterion': 'mse', 'max_depth': 14, 'max_features': 'sqrt'}. Best is trial 64 with value: 45.75532006799188.\u001b[0m\n",
            "\u001b[32m[I 2021-07-21 17:17:21,432]\u001b[0m Trial 65 finished with value: 45.86831459290218 and parameters: {'clf': 'RandomForestRegressor', 'n_estimators': 2000, 'criterion': 'mse', 'max_depth': 14, 'max_features': 'sqrt'}. Best is trial 64 with value: 45.75532006799188.\u001b[0m\n",
            "\u001b[32m[I 2021-07-21 17:17:44,105]\u001b[0m Trial 66 finished with value: 45.874006827980146 and parameters: {'clf': 'RandomForestRegressor', 'n_estimators': 2000, 'criterion': 'mse', 'max_depth': 14, 'max_features': 'sqrt'}. Best is trial 64 with value: 45.75532006799188.\u001b[0m\n",
            "\u001b[32m[I 2021-07-21 17:18:06,512]\u001b[0m Trial 67 finished with value: 45.85570417562515 and parameters: {'clf': 'RandomForestRegressor', 'n_estimators': 2000, 'criterion': 'mse', 'max_depth': 14, 'max_features': 'sqrt'}. Best is trial 64 with value: 45.75532006799188.\u001b[0m\n",
            "\u001b[32m[I 2021-07-21 17:18:28,838]\u001b[0m Trial 68 finished with value: 45.949153869119094 and parameters: {'clf': 'RandomForestRegressor', 'n_estimators': 2000, 'criterion': 'mse', 'max_depth': 14, 'max_features': 'sqrt'}. Best is trial 64 with value: 45.75532006799188.\u001b[0m\n",
            "\u001b[32m[I 2021-07-21 17:18:51,447]\u001b[0m Trial 69 finished with value: 45.927519698424064 and parameters: {'clf': 'RandomForestRegressor', 'n_estimators': 2000, 'criterion': 'mse', 'max_depth': 14, 'max_features': 'sqrt'}. Best is trial 64 with value: 45.75532006799188.\u001b[0m\n",
            "\u001b[32m[I 2021-07-21 17:19:11,591]\u001b[0m Trial 70 finished with value: 46.20692143649683 and parameters: {'clf': 'RandomForestRegressor', 'n_estimators': 2000, 'criterion': 'mse', 'max_depth': 12, 'max_features': 'sqrt'}. Best is trial 64 with value: 45.75532006799188.\u001b[0m\n",
            "\u001b[32m[I 2021-07-21 17:19:33,876]\u001b[0m Trial 71 finished with value: 45.89700521633318 and parameters: {'clf': 'RandomForestRegressor', 'n_estimators': 2000, 'criterion': 'mse', 'max_depth': 14, 'max_features': 'sqrt'}. Best is trial 64 with value: 45.75532006799188.\u001b[0m\n",
            "\u001b[32m[I 2021-07-21 17:19:56,283]\u001b[0m Trial 72 finished with value: 45.78791217593854 and parameters: {'clf': 'RandomForestRegressor', 'n_estimators': 2000, 'criterion': 'mse', 'max_depth': 14, 'max_features': 'sqrt'}. Best is trial 64 with value: 45.75532006799188.\u001b[0m\n",
            "\u001b[32m[I 2021-07-21 17:20:17,874]\u001b[0m Trial 73 finished with value: 45.28106208921475 and parameters: {'clf': 'RandomForestRegressor', 'n_estimators': 1600, 'criterion': 'mse', 'max_depth': 12, 'max_features': 'log2'}. Best is trial 73 with value: 45.28106208921475.\u001b[0m\n",
            "\u001b[32m[I 2021-07-21 17:20:17,904]\u001b[0m Trial 74 finished with value: 66.76388209462642 and parameters: {'clf': 'DecisionTreeRegressor', 'criterion': 'mse', 'max_depth': 12, 'max_features': 'log2'}. Best is trial 73 with value: 45.28106208921475.\u001b[0m\n",
            "\u001b[32m[I 2021-07-21 17:20:21,873]\u001b[0m Trial 75 finished with value: 58.093079173859586 and parameters: {'clf': 'KNeighborsRegressor', 'n_neighbors': 27, 'weights': 'uniform', 'algorithm': 'ball_tree', 'leaf_size': 50, 'p': 10}. Best is trial 73 with value: 45.28106208921475.\u001b[0m\n",
            "\u001b[32m[I 2021-07-21 17:20:22,312]\u001b[0m Trial 76 finished with value: 56.63494074477218 and parameters: {'clf': 'KNeighborsRegressor', 'n_neighbors': 20, 'weights': 'uniform', 'algorithm': 'kd_tree', 'leaf_size': 10, 'p': 19}. Best is trial 73 with value: 45.28106208921475.\u001b[0m\n",
            "\u001b[32m[I 2021-07-21 17:20:43,137]\u001b[0m Trial 77 finished with value: 45.18973988215711 and parameters: {'clf': 'RandomForestRegressor', 'n_estimators': 1550, 'criterion': 'mse', 'max_depth': 12, 'max_features': 'log2'}. Best is trial 77 with value: 45.18973988215711.\u001b[0m\n",
            "\u001b[32m[I 2021-07-21 17:20:47,048]\u001b[0m Trial 78 finished with value: 57.00964147709377 and parameters: {'clf': 'KNeighborsRegressor', 'n_neighbors': 22, 'weights': 'uniform', 'algorithm': 'ball_tree', 'leaf_size': 45, 'p': 10}. Best is trial 77 with value: 45.18973988215711.\u001b[0m\n",
            "\u001b[32m[I 2021-07-21 17:20:47,060]\u001b[0m Trial 79 finished with value: 68.33586531112435 and parameters: {'clf': 'LinearRegression'}. Best is trial 77 with value: 45.18973988215711.\u001b[0m\n",
            "\u001b[32m[I 2021-07-21 17:20:47,893]\u001b[0m Trial 80 finished with value: 58.95633511222209 and parameters: {'clf': 'KNeighborsRegressor', 'n_neighbors': 30, 'weights': 'uniform', 'algorithm': 'kd_tree', 'leaf_size': 50, 'p': 16}. Best is trial 77 with value: 45.18973988215711.\u001b[0m\n",
            "\u001b[32m[I 2021-07-21 17:20:51,756]\u001b[0m Trial 81 finished with value: 56.14522991050551 and parameters: {'clf': 'KNeighborsRegressor', 'n_neighbors': 16, 'weights': 'uniform', 'algorithm': 'ball_tree', 'leaf_size': 45, 'p': 21}. Best is trial 77 with value: 45.18973988215711.\u001b[0m\n",
            "\u001b[32m[I 2021-07-21 17:21:10,637]\u001b[0m Trial 82 finished with value: 45.541561663264154 and parameters: {'clf': 'RandomForestRegressor', 'n_estimators': 1400, 'criterion': 'mse', 'max_depth': 12, 'max_features': 'log2'}. Best is trial 77 with value: 45.18973988215711.\u001b[0m\n",
            "\u001b[32m[I 2021-07-21 17:21:11,116]\u001b[0m Trial 83 finished with value: 57.57218196097875 and parameters: {'clf': 'KNeighborsRegressor', 'n_neighbors': 24, 'weights': 'uniform', 'algorithm': 'kd_tree', 'leaf_size': 10, 'p': 14}. Best is trial 77 with value: 45.18973988215711.\u001b[0m\n",
            "\u001b[32m[I 2021-07-21 17:21:15,124]\u001b[0m Trial 84 finished with value: 58.20430626426304 and parameters: {'clf': 'KNeighborsRegressor', 'n_neighbors': 28, 'weights': 'uniform', 'algorithm': 'ball_tree', 'leaf_size': 40, 'p': 7}. Best is trial 77 with value: 45.18973988215711.\u001b[0m\n",
            "\u001b[32m[I 2021-07-21 17:21:15,785]\u001b[0m Trial 85 finished with value: 56.38045370818398 and parameters: {'clf': 'KNeighborsRegressor', 'n_neighbors': 17, 'weights': 'uniform', 'algorithm': 'kd_tree', 'leaf_size': 40, 'p': 19}. Best is trial 77 with value: 45.18973988215711.\u001b[0m\n",
            "\u001b[32m[I 2021-07-21 17:21:18,531]\u001b[0m Trial 86 finished with value: 57.112779270080594 and parameters: {'clf': 'KNeighborsRegressor', 'n_neighbors': 22, 'weights': 'uniform', 'algorithm': 'ball_tree', 'leaf_size': 15, 'p': 18}. Best is trial 77 with value: 45.18973988215711.\u001b[0m\n",
            "\u001b[32m[I 2021-07-21 17:21:39,468]\u001b[0m Trial 87 finished with value: 45.19496612967957 and parameters: {'clf': 'RandomForestRegressor', 'n_estimators': 1550, 'criterion': 'mse', 'max_depth': 12, 'max_features': 'log2'}. Best is trial 77 with value: 45.18973988215711.\u001b[0m\n",
            "\u001b[32m[I 2021-07-21 17:21:40,188]\u001b[0m Trial 88 finished with value: 56.812432113678526 and parameters: {'clf': 'KNeighborsRegressor', 'n_neighbors': 21, 'weights': 'uniform', 'algorithm': 'kd_tree', 'leaf_size': 50, 'p': 9}. Best is trial 77 with value: 45.18973988215711.\u001b[0m\n",
            "\u001b[32m[I 2021-07-21 17:21:44,076]\u001b[0m Trial 89 finished with value: 55.88064823195964 and parameters: {'clf': 'KNeighborsRegressor', 'n_neighbors': 14, 'weights': 'uniform', 'algorithm': 'ball_tree', 'leaf_size': 45, 'p': 12}. Best is trial 77 with value: 45.18973988215711.\u001b[0m\n",
            "\u001b[32m[I 2021-07-21 17:21:51,290]\u001b[0m Trial 90 finished with value: 56.10942738210985 and parameters: {'clf': 'KNeighborsRegressor', 'n_neighbors': 17, 'weights': 'uniform', 'algorithm': 'brute', 'leaf_size': 10, 'p': 6}. Best is trial 77 with value: 45.18973988215711.\u001b[0m\n",
            "\u001b[32m[I 2021-07-21 17:21:52,015]\u001b[0m Trial 91 finished with value: 57.32541968749265 and parameters: {'clf': 'KNeighborsRegressor', 'n_neighbors': 23, 'weights': 'uniform', 'algorithm': 'kd_tree', 'leaf_size': 40, 'p': 23}. Best is trial 77 with value: 45.18973988215711.\u001b[0m\n",
            "\u001b[32m[I 2021-07-21 17:22:12,920]\u001b[0m Trial 92 finished with value: 45.238448691594655 and parameters: {'clf': 'RandomForestRegressor', 'n_estimators': 1550, 'criterion': 'mse', 'max_depth': 12, 'max_features': 'log2'}. Best is trial 77 with value: 45.18973988215711.\u001b[0m\n",
            "\u001b[32m[I 2021-07-21 17:22:20,284]\u001b[0m Trial 93 finished with value: 57.4076791484129 and parameters: {'clf': 'KNeighborsRegressor', 'n_neighbors': 25, 'weights': 'uniform', 'algorithm': 'brute', 'leaf_size': 50, 'p': 4}. Best is trial 77 with value: 45.18973988215711.\u001b[0m\n",
            "\u001b[32m[I 2021-07-21 17:22:23,413]\u001b[0m Trial 94 finished with value: 56.31571704860725 and parameters: {'clf': 'KNeighborsRegressor', 'n_neighbors': 18, 'weights': 'uniform', 'algorithm': 'ball_tree', 'leaf_size': 35, 'p': 21}. Best is trial 77 with value: 45.18973988215711.\u001b[0m\n",
            "\u001b[32m[I 2021-07-21 17:22:44,291]\u001b[0m Trial 95 finished with value: 45.33636619728824 and parameters: {'clf': 'RandomForestRegressor', 'n_estimators': 1550, 'criterion': 'mse', 'max_depth': 12, 'max_features': 'log2'}. Best is trial 77 with value: 45.18973988215711.\u001b[0m\n",
            "\u001b[32m[I 2021-07-21 17:22:51,379]\u001b[0m Trial 96 finished with value: 56.08891161478265 and parameters: {'clf': 'KNeighborsRegressor', 'n_neighbors': 12, 'weights': 'uniform', 'algorithm': 'brute', 'leaf_size': 45, 'p': 15}. Best is trial 77 with value: 45.18973988215711.\u001b[0m\n",
            "\u001b[32m[I 2021-07-21 17:22:51,752]\u001b[0m Trial 97 finished with value: 56.08409000551106 and parameters: {'clf': 'KNeighborsRegressor', 'n_neighbors': 14, 'weights': 'uniform', 'algorithm': 'kd_tree', 'leaf_size': 15, 'p': 25}. Best is trial 77 with value: 45.18973988215711.\u001b[0m\n",
            "\u001b[32m[I 2021-07-21 17:22:54,629]\u001b[0m Trial 98 finished with value: 58.59850709307728 and parameters: {'clf': 'KNeighborsRegressor', 'n_neighbors': 28, 'weights': 'uniform', 'algorithm': 'ball_tree', 'leaf_size': 10, 'p': 16}. Best is trial 77 with value: 45.18973988215711.\u001b[0m\n",
            "\u001b[32m[I 2021-07-21 17:23:14,781]\u001b[0m Trial 99 finished with value: 45.14801224935764 and parameters: {'clf': 'RandomForestRegressor', 'n_estimators': 1500, 'criterion': 'mse', 'max_depth': 12, 'max_features': 'log2'}. Best is trial 99 with value: 45.14801224935764.\u001b[0m\n",
            "/usr/local/lib/python3.7/dist-packages/sklearn/base.py:197: FutureWarning:\n",
            "\n",
            "From version 0.24, get_params will raise an AttributeError if a parameter cannot be retrieved as an instance attribute. Previously it would return None.\n",
            "\n"
          ]
        },
        {
          "output_type": "execute_result",
          "data": {
            "text/plain": [
              "Pipeline(memory=None,\n",
              "         steps=[('optim',\n",
              "                 Optimize(maximize=None, n_trials=100,\n",
              "                          objective=<__main__.Objective object at 0x7f50969c84d0>))],\n",
              "         verbose=False)"
            ]
          },
          "metadata": {
            "tags": []
          },
          "execution_count": 39
        }
      ],
      "metadata": {
        "colab": {
          "base_uri": "https://localhost:8080/"
        },
        "id": "oi-3bOg56Jmp",
        "outputId": "bb920780-4549-4e68-b4fe-ae728fa55d02"
      }
    },
    {
      "cell_type": "code",
      "execution_count": null,
      "source": [
        "# Load test data\n",
        "\n",
        "test = pd.read_csv('test.csv', parse_dates=['date_time'])\n",
        "test.head()"
      ],
      "outputs": [
        {
          "output_type": "execute_result",
          "data": {
            "text/html": [
              "<div>\n",
              "<style scoped>\n",
              "    .dataframe tbody tr th:only-of-type {\n",
              "        vertical-align: middle;\n",
              "    }\n",
              "\n",
              "    .dataframe tbody tr th {\n",
              "        vertical-align: top;\n",
              "    }\n",
              "\n",
              "    .dataframe thead th {\n",
              "        text-align: right;\n",
              "    }\n",
              "</style>\n",
              "<table border=\"1\" class=\"dataframe\">\n",
              "  <thead>\n",
              "    <tr style=\"text-align: right;\">\n",
              "      <th></th>\n",
              "      <th>date_time</th>\n",
              "      <th>deg_C</th>\n",
              "      <th>relative_humidity</th>\n",
              "      <th>absolute_humidity</th>\n",
              "      <th>sensor_1</th>\n",
              "      <th>sensor_2</th>\n",
              "      <th>sensor_3</th>\n",
              "      <th>sensor_4</th>\n",
              "      <th>sensor_5</th>\n",
              "    </tr>\n",
              "  </thead>\n",
              "  <tbody>\n",
              "    <tr>\n",
              "      <th>0</th>\n",
              "      <td>2011-01-01 00:00:00</td>\n",
              "      <td>8.0</td>\n",
              "      <td>41.3</td>\n",
              "      <td>0.4375</td>\n",
              "      <td>1108.8</td>\n",
              "      <td>745.7</td>\n",
              "      <td>797.1</td>\n",
              "      <td>880.0</td>\n",
              "      <td>1273.1</td>\n",
              "    </tr>\n",
              "    <tr>\n",
              "      <th>1</th>\n",
              "      <td>2011-01-01 01:00:00</td>\n",
              "      <td>5.1</td>\n",
              "      <td>51.7</td>\n",
              "      <td>0.4564</td>\n",
              "      <td>1249.5</td>\n",
              "      <td>864.9</td>\n",
              "      <td>687.9</td>\n",
              "      <td>972.8</td>\n",
              "      <td>1714.0</td>\n",
              "    </tr>\n",
              "    <tr>\n",
              "      <th>2</th>\n",
              "      <td>2011-01-01 02:00:00</td>\n",
              "      <td>5.8</td>\n",
              "      <td>51.5</td>\n",
              "      <td>0.4689</td>\n",
              "      <td>1102.6</td>\n",
              "      <td>878.0</td>\n",
              "      <td>693.7</td>\n",
              "      <td>941.9</td>\n",
              "      <td>1300.8</td>\n",
              "    </tr>\n",
              "    <tr>\n",
              "      <th>3</th>\n",
              "      <td>2011-01-01 03:00:00</td>\n",
              "      <td>5.0</td>\n",
              "      <td>52.3</td>\n",
              "      <td>0.4693</td>\n",
              "      <td>1139.7</td>\n",
              "      <td>916.2</td>\n",
              "      <td>725.6</td>\n",
              "      <td>1011.0</td>\n",
              "      <td>1283.0</td>\n",
              "    </tr>\n",
              "    <tr>\n",
              "      <th>4</th>\n",
              "      <td>2011-01-01 04:00:00</td>\n",
              "      <td>4.5</td>\n",
              "      <td>57.5</td>\n",
              "      <td>0.4650</td>\n",
              "      <td>1022.4</td>\n",
              "      <td>838.5</td>\n",
              "      <td>871.5</td>\n",
              "      <td>967.0</td>\n",
              "      <td>1142.3</td>\n",
              "    </tr>\n",
              "  </tbody>\n",
              "</table>\n",
              "</div>"
            ],
            "text/plain": [
              "            date_time  deg_C  relative_humidity  ...  sensor_3  sensor_4  sensor_5\n",
              "0 2011-01-01 00:00:00    8.0               41.3  ...     797.1     880.0    1273.1\n",
              "1 2011-01-01 01:00:00    5.1               51.7  ...     687.9     972.8    1714.0\n",
              "2 2011-01-01 02:00:00    5.8               51.5  ...     693.7     941.9    1300.8\n",
              "3 2011-01-01 03:00:00    5.0               52.3  ...     725.6    1011.0    1283.0\n",
              "4 2011-01-01 04:00:00    4.5               57.5  ...     871.5     967.0    1142.3\n",
              "\n",
              "[5 rows x 9 columns]"
            ]
          },
          "metadata": {
            "tags": []
          },
          "execution_count": 40
        }
      ],
      "metadata": {
        "colab": {
          "base_uri": "https://localhost:8080/",
          "height": 309
        },
        "id": "BBUJPMFCr7ct",
        "outputId": "1eff942c-6655-4d43-bbcc-400cc3c53782"
      }
    },
    {
      "cell_type": "code",
      "execution_count": null,
      "source": [
        "# Predictioin\n",
        "\n",
        "test_pred = pipe.predict(test.drop(['date_time'], axis=1))\n",
        "test_pred"
      ],
      "outputs": [
        {
          "output_type": "execute_result",
          "data": {
            "text/plain": [
              "array([[  1.56375631,   5.67046419, 240.48023089],\n",
              "       [  2.53331401,   9.80644293, 379.66262219],\n",
              "       [  2.24543857,   9.3342649 , 366.53321061],\n",
              "       ...,\n",
              "       [  2.83952302,  13.84692348, 361.67787327],\n",
              "       [  2.06503529,   9.36237622, 252.49782095],\n",
              "       [  2.31797704,  10.76395369, 283.25768048]])"
            ]
          },
          "metadata": {
            "tags": []
          },
          "execution_count": 41
        }
      ],
      "metadata": {
        "colab": {
          "base_uri": "https://localhost:8080/"
        },
        "id": "OCKppn4l6Q_M",
        "outputId": "533c9721-45aa-4c0d-9a06-d7b0a6800cde"
      }
    },
    {
      "cell_type": "code",
      "execution_count": null,
      "source": [
        "# Output\n",
        "\n",
        "submission = pd.DataFrame(test_pred)\n",
        "submission['date_time'] = test['date_time'].values\n",
        "submission.columns = ['target_carbon_monoxide', 'target_benzene', 'target_nitrogen_oxides', 'date_time']\n",
        "submission.to_csv('output.csv', index=False)"
      ],
      "outputs": [],
      "metadata": {
        "id": "hJ45cEow76xF"
      }
    }
  ]
}